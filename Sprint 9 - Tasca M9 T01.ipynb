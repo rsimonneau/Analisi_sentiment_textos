{
 "cells": [
  {
   "cell_type": "markdown",
   "id": "318fdf72",
   "metadata": {},
   "source": [
    "- Exercici 1: \n",
    "Agafa un text en anglès que vulguis, i calcula'n la freqüència de les paraules.\n",
    "\n",
    "- Exercici 2: \n",
    "Treu les stopwords i realitza stemming al teu conjunt de dades.\n",
    "\n",
    "- Exercici 3: \n",
    "Realitza sentiment analysis al teu conjunt de dades."
   ]
  },
  {
   "cell_type": "markdown",
   "id": "d02ab37b",
   "metadata": {},
   "source": [
    "### Exercici 1: \n",
    "\n",
    "Agafa un text en anglès que vulguis, i calcula'n la freqüència de les paraules."
   ]
  },
  {
   "cell_type": "markdown",
   "id": "f475453e",
   "metadata": {},
   "source": [
    "#### Càrrega del text\n",
    "- Importem el text a analitzar: en aquest cas l'importem d'una pàgina web"
   ]
  },
  {
   "cell_type": "code",
   "execution_count": 51,
   "id": "a3a794fb",
   "metadata": {},
   "outputs": [
    {
     "name": "stdout",
     "output_type": "stream",
     "text": [
      "Can Morocco solve Europe’s energy crisis? - BBC NewsBBC HomepageSkip to contentAccessibility HelpYour accountHomeNewsSportReelWorklifeTravelFutureMore menuMore menuSearch BBCHomeNewsSportReelWorklifeTravelFutureCultureMusicTVWeatherSoundsClose menuBBC NewsMenuHomeWar in UkraineCoronationClimateVideoWorldUKBusinessTechScienceMoreStoriesEntertainment & ArtsHealthWorld News TVIn PicturesReality CheckNewsbeatLong ReadsBusinessMarket DataNew EconomyNew Tech EconomyCompaniesTechnology of BusinessEconomyCEO SecretsGlobal TradeCost of LivingCan Morocco solve Europe’s energy crisis?Published4 days agocommentsCommentsShareclose panelShare pageCopy linkAbout sharingImage source, Getty ImagesImage caption, Morocco is home to the vast Noor-Ouarzazate Solar ComplexBy Jonathan JosephsBusiness reporter, BBC News, RabatMorocco has big ambitions to export electricity produced by solar and wind farms to Europe, but should it be prioritising such renewable energy for its home market?\"The resources we have here could be one of the big, big answers to European demand,\" says Moroccan energy entrepreneur Moundir Zniber.Mr Zniber is a passionate man who senses opportunity out of crisis.\"I think Morocco represents the best opportunity to get the European continent away from the dependency it has today on Russian gas,\" he says.Mr Zniber has spent the past 15 years building his company, Gaia Energy, into one of the leaders of a renewable energy revolution in his home country.\"Morocco has truly one of the best solar and wind resources in the world combined,\" he says. \"We don't have oil, we don't have natural gas, but we have a potential that is just amazing.\"The war in Ukraine has catalysed Europe's politicians to increase their efforts to tackle climate change with new sources of clean energy. Morocco hopes to be part of the solution.It is on Europe's doorstep, and has ambitious plans to generate 52% of its electricity from renewable sources by 2030. The hope is that lots of this electricity will be exported via undersea cables to Europe.But at present, the country still has to build many more solar and wind farms. Currently the north African nation of 39 million people depends on imports for 90% of its energy needs, and most of that is from fossil fuels.In 2021, some 80.5% of Morocco's electricity production came from burning coal, gas and oil. By contrast, only 12.4% came from wind power, and 4.4% came from solar.Image caption, Moundir Zniber's company Gaia Energy is developing wind, solar and green hydrogen power projects in 12 countries across AfricaHowever, Morocco is already making some tangible progress to boost its renewable energy generation, thanks to projects such as the huge Noor-Ouarzazate Solar Complex. With the first phase opening back in 2016, this is now the world's largest concentrated solar power plant.Such facilities use mirrors to reflect and concentrate sunlight onto central tower \"receivers\". These contain fluid that is heated by the light, creating steam that spins turbines to generate electricity.At Noor-Ouarzazate the mirrors are now spread over 3,000 hectares (11.6 sq miles). The facility was developed by Saudi Arabian firm ACWA Power, with funding also coming from the World Bank and European Investment Bank.Mr Zniber says that private Moroccan firms like his are now planning to export solar and wind-generated electricity to Europe, and green hydrogen - hydrogen that has been created by renewable energy.He adds that Gaia Energy is developing wind and solar schemes that could meet up to 4% of Germany and Italy's electricity needs. \"And in terms of green hydrogen we have six projects our company is developing that could answer 25% of the needs of the EU.\"Meanwhile, British energy start-up Xlinks has plans to build an undersea electricity cable from Morocco to the UK. Its hope is that Moroccan solar and wind power can provide 8% of the UK's electricity requirements by 2030.Image source, Getty ImagesImage caption, Morocco is also investing in wind power, such as this wind farm near TangiersIncreasing the size of Morocco's solar and wind power generation could help bolster economic growth in the country, according to the World Bank. It has provided millions of dollars of funding for the sectors.The benefits include a decoupling from the \"very heavy volatility of the prices of fossil fuels\", according to the World Bank's lead economist for the region, Moez Cherif. In a country with an unemployment rate of 11.2%, Mr Cherif adds that it could create as many as 28,000 much needed new jobs each year. He also says it would allow Morocco to \"position itself as an industrial hub for investments for exports of green industrial products\" such as car manufacturing using renewable energy.Yet the World Bank estimates that it will cost $52bn (£41.6bn) for Morocco to hit its 2030 renewables target, with most of that money having to come from the private sector. The Moroccan government agrees with that.The administration is acutely aware of the potential benefits, and is trying to accelerate the renewable vision first laid out by King Mohammed VI in 2009.Morocco's Minister of Energy Transition and Sustainable Development Leila Benali says some of the slow growth in renewables in the country in recent years has been caused by global factors.Image caption, Energy Transition Minister Leila Benali is trying to speed up the country's shift to renewable power\"The world is just coming out from a historic pandemic, total dislocation of supply chains and value chains - also affecting renewable energy, including the way we trade solar panels and wind turbines.\"However, she acknowledges there are also internal hurdles to overcome. Those include \"speeding up and streamlining bureaucracy\", including making sure companies get things such as \"access to land permits relatively fast to ensure that investors get access to the opportunities that they want\".Mrs Benali adds that the government's energy strategy is based on the three pillars of ramping up renewables, increasing efficiency, and more integration into international energy markets. When asked if it makes sense to export green electricity before all of Morocco's own needs are met through renewables, Mrs Benali says that the \"priority\" is for Moroccans to have access to the \"lowest-cost\" green energy.She adds that there is also a need to take advantage of the \"historic opportunity\" to integrate with Europe's energy market, and that such opportunities could be an incentive for the much needed private investment. The World Bank's Moez Cherif believes that Morocco should both increase exports of renewable power, and add more for domestic consumption. \"Ideally you should do both,\" he says.Global TradeMore from the BBC's series taking an international perspective on trade.At last November's COP27 climate change conference in Sharm el-Sheikh, Morocco signed a memorandum of understanding with France, Germany, Portugal and Spain to make it easier to sell power across borders.However, climate change activist Hajar Khalmichi, from the Mediterranean Youth Climate Network, says she wants to see Morocco fulfil all its domestic energy needs from renewables before thinking of exporting any electricity.She also thinks that the ambition of 52% of electricity coming from renewables doesn't go far enough, and that there hasn't been enough discussion about where the rest will come from as Morocco tries to lower its dependency on its gas, oil and coal power stations.Ms Khalmichi adds that she is also concerned that the country is exploring for natural gas off its coastline.The Moroccan government counters that it has similar challenges to other countries that are going big on renewables, and that it needs gas to deal with the fact that the wind doesn't always blow and the sun doesn't always shine.Mr Cherif says \"there may be a role, a transition role for natural gas [in Morocco]\" as the move from fossil fuels to renewables will be a gradual one over the course of decades.Moundir Zniber adds that Morocco needs \"a mix\" of energy sources. \"Renewables are part of the solution on the electric side.\"You can watch more about Morocco's energy transformation on Talking Business with Aaron Heslehurst on BBC iPlayer (UK audiences only)Related TopicsWind powerSolar powerGlobal economyGlobal tradeMoroccoView commentsTop StoriesThree children among victims of Texas mall shootingPublished1 hour agoHow graphic Texas shooting videos spread on TwitterPublished2 hours agoRussia launches 'biggest' drone attack on UkrainePublished2 hours agoFeaturesHer illness fooled celebs. The truth may be even darker'How I saved my red guitar from Sudan's war zone'A guide to every country's Eurovision 2023 songThe young radicals shaking up the Thai electionOver a barrel: Sudan mediators face tough choicesBBC unveils Bike Bureau for green broadcasting. VideoBBC unveils Bike Bureau for green broadcastingEurovision Q&A: Alessandra, Norway's Queen Of Kings'Nothing we can do but watch babies die': Desperation in Afghan hospitalsTwo in two days: The shootings that shook SerbiaElsewhere on the BBCAre protein powders bad for you?Why Gen Z are rejecting 'prestige' jobsThe Manhattan island sold for $1Most Read1Three children among victims of Texas mall shooting2Russia launches 'biggest' drone attack on Ukraine3King as Caribbean islands' head of state 'absurd'4EU cancels Israel event over minister's attendance5Woman survives on wine while lost in Australian bush6Her illness fooled celebs. The truth may be even darker7Official Coronation photos of King and Queen released8How graphic Texas shooting videos spread on Twitter9Met Police shoot dead two dogs and Taser man10Indian engineer among Texas mall shooting victimsBBC News ServicesOn your mobileOn smart speakersGet news alertsContact BBC NewsHomeNewsSportReelWorklifeTravelFutureCultureMusicTVWeatherSoundsTerms of UseAbout the BBCPrivacy PolicyCookiesAccessibility HelpParental GuidanceContact the BBCGet Personalised NewslettersWhy you can trust the BBCAdvertise with us© 2023 BBC. The BBC is not responsible for the content of external sites. Read about our approach to external linking.\n"
     ]
    }
   ],
   "source": [
    "# Importem el text de la següent pàgina web: https://www.bbc.com/news/business-65415529 (noticia de la BBC)\n",
    "\n",
    "import requests\n",
    "from bs4 import BeautifulSoup\n",
    "\n",
    "# Indiquem la pagina web i fem la sol·licitud HTTP\n",
    "\n",
    "url = ('https://www.bbc.com/news/business-65415529')\n",
    "response = requests.get(url)\n",
    "\n",
    "# Analitzem el contingut HTML de la pàgina:\n",
    "\n",
    "soup = BeautifulSoup(response.content, 'html.parser')\n",
    "\n",
    "# Busquem el 'text' de la pàgina\n",
    "\n",
    "text = soup.get_text()\n",
    "\n",
    "# Mostrem el 'text':\n",
    "\n",
    "print(text)\n",
    "\n",
    " "
   ]
  },
  {
   "cell_type": "code",
   "execution_count": 52,
   "id": "3ed8dac5",
   "metadata": {},
   "outputs": [
    {
     "name": "stdout",
     "output_type": "stream",
     "text": [
      "Morocco has big ambitions to export electricity produced by solar and wind farms to Europe, but should it be prioritising such renewable energy for its home market?\"The resources we have here could be one of the big, big answers to European demand,\" says Moroccan energy entrepreneur Moundir Zniber.Mr Zniber is a passionate man who senses opportunity out of crisis.\"I think Morocco represents the best opportunity to get the European continent away from the dependency it has today on Russian gas,\" he says.Mr Zniber has spent the past 15 years building his company, Gaia Energy, into one of the leaders of a renewable energy revolution in his home country.\"Morocco has truly one of the best solar and wind resources in the world combined,\" he says. \"We don't have oil, we don't have natural gas, but we have a potential that is just amazing.\"The war in Ukraine has catalysed Europe's politicians to increase their efforts to tackle climate change with new sources of clean energy. Morocco hopes to be part of the solution.It is on Europe's doorstep, and has ambitious plans to generate 52% of its electricity from renewable sources by 2030. The hope is that lots of this electricity will be exported via undersea cables to Europe.But at present, the country still has to build many more solar and wind farms. Currently the north African nation of 39 million people depends on imports for 90% of its energy needs, and most of that is from fossil fuels.In 2021, some 80.5% of Morocco's electricity production came from burning coal, gas and oil. By contrast, only 12.4% came from wind power, and 4.4% came from solar.Image caption, Moundir Zniber's company Gaia Energy is developing wind, solar and green hydrogen power projects in 12 countries across AfricaHowever, Morocco is already making some tangible progress to boost its renewable energy generation, thanks to projects such as the huge Noor-Ouarzazate Solar Complex. With the first phase opening back in 2016, this is now the world's largest concentrated solar power plant.Such facilities use mirrors to reflect and concentrate sunlight onto central tower \"receivers\". These contain fluid that is heated by the light, creating steam that spins turbines to generate electricity.At Noor-Ouarzazate the mirrors are now spread over 3,000 hectares (11.6 sq miles). The facility was developed by Saudi Arabian firm ACWA Power, with funding also coming from the World Bank and European Investment Bank.Mr Zniber says that private Moroccan firms like his are now planning to export solar and wind-generated electricity to Europe, and green hydrogen - hydrogen that has been created by renewable energy.He adds that Gaia Energy is developing wind and solar schemes that could meet up to 4% of Germany and Italy's electricity needs. \"And in terms of green hydrogen we have six projects our company is developing that could answer 25% of the needs of the EU.\"Meanwhile, British energy start-up Xlinks has plans to build an undersea electricity cable from Morocco to the UK. Its hope is that Moroccan solar and wind power can provide 8% of the UK's electricity requirements by 2030.Image source, Getty ImagesImage caption, Morocco is also investing in wind power, such as this wind farm near TangiersIncreasing the size of Morocco's solar and wind power generation could help bolster economic growth in the country, according to the World Bank. It has provided millions of dollars of funding for the sectors.The benefits include a decoupling from the \"very heavy volatility of the prices of fossil fuels\", according to the World Bank's lead economist for the region, Moez Cherif. In a country with an unemployment rate of 11.2%, Mr Cherif adds that it could create as many as 28,000 much needed new jobs each year. He also says it would allow Morocco to \"position itself as an industrial hub for investments for exports of green industrial products\" such as car manufacturing using renewable energy.Yet the World Bank estimates that it will cost $52bn (£41.6bn) for Morocco to hit its 2030 renewables target, with most of that money having to come from the private sector. The Moroccan government agrees with that.The administration is acutely aware of the potential benefits, and is trying to accelerate the renewable vision first laid out by King Mohammed VI in 2009.Morocco's Minister of Energy Transition and Sustainable Development Leila Benali says some of the slow growth in renewables in the country in recent years has been caused by global factors.Image caption, Energy Transition Minister Leila Benali is trying to speed up the country's shift to renewable power\"The world is just coming out from a historic pandemic, total dislocation of supply chains and value chains - also affecting renewable energy, including the way we trade solar panels and wind turbines.\"However, she acknowledges there are also internal hurdles to overcome. Those include \"speeding up and streamlining bureaucracy\", including making sure companies get things such as \"access to land permits relatively fast to ensure that investors get access to the opportunities that they want\".Mrs Benali adds that the government's energy strategy is based on the three pillars of ramping up renewables, increasing efficiency, and more integration into international energy markets. When asked if it makes sense to export green electricity before all of Morocco's own needs are met through renewables, Mrs Benali says that the \"priority\" is for Moroccans to have access to the \"lowest-cost\" green energy.She adds that there is also a need to take advantage of the \"historic opportunity\" to integrate with Europe's energy market, and that such opportunities could be an incentive for the much needed private investment. The World Bank's Moez Cherif believes that Morocco should both increase exports of renewable power, and add more for domestic consumption. \"Ideally you should do both,\" he says.Global TradeMore from the BBC's series taking an international perspective on trade.At last November's COP27 climate change conference in Sharm el-Sheikh, Morocco signed a memorandum of understanding with France, Germany, Portugal and Spain to make it easier to sell power across borders.However, climate change activist Hajar Khalmichi, from the Mediterranean Youth Climate Network, says she wants to see Morocco fulfil all its domestic energy needs from renewables before thinking of exporting any electricity.She also thinks that the ambition of 52% of electricity coming from renewables doesn't go far enough, and that there hasn't been enough discussion about where the rest will come from as Morocco tries to lower its dependency on its gas, oil and coal power stations.Ms Khalmichi adds that she is also concerned that the country is exploring for natural gas off its coastline.The Moroccan government counters that it has similar challenges to other countries that are going big on renewables, and that it needs gas to deal with the fact that the wind doesn't always blow and the sun doesn't always shine.Mr Cherif says \"there may be a role, a transition role for natural gas [in Morocco]\" as the move from fossil fuels to renewables will be a gradual one over the course of decades.Moundir Zniber adds that Morocco needs \"a mix\" of energy sources. \"Renewables are part of the solution on the electric side.\"\n"
     ]
    }
   ],
   "source": [
    "# Al carregar el text de la pàgina web, s'agafa tot el contingut.\n",
    " # Eliminem la resta de contingut per carregar únicmanet el text a analizar, en aquest cas la noticia.\n",
    "\n",
    "# 'tallem' el text allà a on finalitza la noticia:\n",
    "\n",
    "text_split = text.split(\"You can watch more about Morocco's energy transformation\", 1)[0].split(\"BBC News, Rabat\", 1)[-1]\n",
    "\n",
    "print(text_split)"
   ]
  },
  {
   "cell_type": "markdown",
   "id": "244e8eb5",
   "metadata": {},
   "source": [
    "#### Càlcul de la frequècnia de les paraules\n",
    "\n",
    "- Dividim el 'text' en tokens ('tokenize')\n",
    "- Calculem la freqüència\n"
   ]
  },
  {
   "cell_type": "code",
   "execution_count": 53,
   "id": "9d5493c2",
   "metadata": {},
   "outputs": [
    {
     "name": "stdout",
     "output_type": "stream",
     "text": [
      "['Morocco', 'has', 'big', 'ambitions', 'to', 'export', 'electricity', 'produced', 'by', 'solar', 'and', 'wind', 'farms', 'to', 'Europe', ',', 'but', 'should', 'it', 'be', 'prioritising', 'such', 'renewable', 'energy', 'for', 'its', 'home', 'market', '?', '``', 'The', 'resources', 'we', 'have', 'here', 'could', 'be', 'one', 'of', 'the', 'big', ',', 'big', 'answers', 'to', 'European', 'demand', ',', \"''\", 'says', 'Moroccan', 'energy', 'entrepreneur', 'Moundir', 'Zniber.Mr', 'Zniber', 'is', 'a', 'passionate', 'man', 'who', 'senses', 'opportunity', 'out', 'of', 'crisis', '.', '``', 'I', 'think', 'Morocco', 'represents', 'the', 'best', 'opportunity', 'to', 'get', 'the', 'European', 'continent', 'away', 'from', 'the', 'dependency', 'it', 'has', 'today', 'on', 'Russian', 'gas', ',', \"''\", 'he', 'says.Mr', 'Zniber', 'has', 'spent', 'the', 'past', '15', 'years', 'building', 'his', 'company', ',', 'Gaia', 'Energy', ',', 'into', 'one', 'of', 'the', 'leaders', 'of', 'a', 'renewable', 'energy', 'revolution', 'in', 'his', 'home', 'country', '.', '``', 'Morocco', 'has', 'truly', 'one', 'of', 'the', 'best', 'solar', 'and', 'wind', 'resources', 'in', 'the', 'world', 'combined', ',', \"''\", 'he', 'says', '.', '``', 'We', 'do', \"n't\", 'have', 'oil', ',', 'we', 'do', \"n't\", 'have', 'natural', 'gas', ',', 'but', 'we', 'have', 'a', 'potential', 'that', 'is', 'just', 'amazing', '.', '``', 'The', 'war', 'in', 'Ukraine', 'has', 'catalysed', 'Europe', \"'s\", 'politicians', 'to', 'increase', 'their', 'efforts', 'to', 'tackle', 'climate', 'change', 'with', 'new', 'sources', 'of', 'clean', 'energy', '.', 'Morocco', 'hopes', 'to', 'be', 'part', 'of', 'the', 'solution.It', 'is', 'on', 'Europe', \"'s\", 'doorstep', ',', 'and', 'has', 'ambitious', 'plans', 'to', 'generate', '52', '%', 'of', 'its', 'electricity', 'from', 'renewable', 'sources', 'by', '2030', '.', 'The', 'hope', 'is', 'that', 'lots', 'of', 'this', 'electricity', 'will', 'be', 'exported', 'via', 'undersea', 'cables', 'to', 'Europe.But', 'at', 'present', ',', 'the', 'country', 'still', 'has', 'to', 'build', 'many', 'more', 'solar', 'and', 'wind', 'farms', '.', 'Currently', 'the', 'north', 'African', 'nation', 'of', '39', 'million', 'people', 'depends', 'on', 'imports', 'for', '90', '%', 'of', 'its', 'energy', 'needs', ',', 'and', 'most', 'of', 'that', 'is', 'from', 'fossil', 'fuels.In', '2021', ',', 'some', '80.5', '%', 'of', 'Morocco', \"'s\", 'electricity', 'production', 'came', 'from', 'burning', 'coal', ',', 'gas', 'and', 'oil', '.', 'By', 'contrast', ',', 'only', '12.4', '%', 'came', 'from', 'wind', 'power', ',', 'and', '4.4', '%', 'came', 'from', 'solar.Image', 'caption', ',', 'Moundir', 'Zniber', \"'s\", 'company', 'Gaia', 'Energy', 'is', 'developing', 'wind', ',', 'solar', 'and', 'green', 'hydrogen', 'power', 'projects', 'in', '12', 'countries', 'across', 'AfricaHowever', ',', 'Morocco', 'is', 'already', 'making', 'some', 'tangible', 'progress', 'to', 'boost', 'its', 'renewable', 'energy', 'generation', ',', 'thanks', 'to', 'projects', 'such', 'as', 'the', 'huge', 'Noor-Ouarzazate', 'Solar', 'Complex', '.', 'With', 'the', 'first', 'phase', 'opening', 'back', 'in', '2016', ',', 'this', 'is', 'now', 'the', 'world', \"'s\", 'largest', 'concentrated', 'solar', 'power', 'plant.Such', 'facilities', 'use', 'mirrors', 'to', 'reflect', 'and', 'concentrate', 'sunlight', 'onto', 'central', 'tower', '``', 'receivers', \"''\", '.', 'These', 'contain', 'fluid', 'that', 'is', 'heated', 'by', 'the', 'light', ',', 'creating', 'steam', 'that', 'spins', 'turbines', 'to', 'generate', 'electricity.At', 'Noor-Ouarzazate', 'the', 'mirrors', 'are', 'now', 'spread', 'over', '3,000', 'hectares', '(', '11.6', 'sq', 'miles', ')', '.', 'The', 'facility', 'was', 'developed', 'by', 'Saudi', 'Arabian', 'firm', 'ACWA', 'Power', ',', 'with', 'funding', 'also', 'coming', 'from', 'the', 'World', 'Bank', 'and', 'European', 'Investment', 'Bank.Mr', 'Zniber', 'says', 'that', 'private', 'Moroccan', 'firms', 'like', 'his', 'are', 'now', 'planning', 'to', 'export', 'solar', 'and', 'wind-generated', 'electricity', 'to', 'Europe', ',', 'and', 'green', 'hydrogen', '-', 'hydrogen', 'that', 'has', 'been', 'created', 'by', 'renewable', 'energy.He', 'adds', 'that', 'Gaia', 'Energy', 'is', 'developing', 'wind', 'and', 'solar', 'schemes', 'that', 'could', 'meet', 'up', 'to', '4', '%', 'of', 'Germany', 'and', 'Italy', \"'s\", 'electricity', 'needs', '.', '``', 'And', 'in', 'terms', 'of', 'green', 'hydrogen', 'we', 'have', 'six', 'projects', 'our', 'company', 'is', 'developing', 'that', 'could', 'answer', '25', '%', 'of', 'the', 'needs', 'of', 'the', 'EU', '.', '``', 'Meanwhile', ',', 'British', 'energy', 'start-up', 'Xlinks', 'has', 'plans', 'to', 'build', 'an', 'undersea', 'electricity', 'cable', 'from', 'Morocco', 'to', 'the', 'UK', '.', 'Its', 'hope', 'is', 'that', 'Moroccan', 'solar', 'and', 'wind', 'power', 'can', 'provide', '8', '%', 'of', 'the', 'UK', \"'s\", 'electricity', 'requirements', 'by', '2030.Image', 'source', ',', 'Getty', 'ImagesImage', 'caption', ',', 'Morocco', 'is', 'also', 'investing', 'in', 'wind', 'power', ',', 'such', 'as', 'this', 'wind', 'farm', 'near', 'TangiersIncreasing', 'the', 'size', 'of', 'Morocco', \"'s\", 'solar', 'and', 'wind', 'power', 'generation', 'could', 'help', 'bolster', 'economic', 'growth', 'in', 'the', 'country', ',', 'according', 'to', 'the', 'World', 'Bank', '.', 'It', 'has', 'provided', 'millions', 'of', 'dollars', 'of', 'funding', 'for', 'the', 'sectors.The', 'benefits', 'include', 'a', 'decoupling', 'from', 'the', '``', 'very', 'heavy', 'volatility', 'of', 'the', 'prices', 'of', 'fossil', 'fuels', \"''\", ',', 'according', 'to', 'the', 'World', 'Bank', \"'s\", 'lead', 'economist', 'for', 'the', 'region', ',', 'Moez', 'Cherif', '.', 'In', 'a', 'country', 'with', 'an', 'unemployment', 'rate', 'of', '11.2', '%', ',', 'Mr', 'Cherif', 'adds', 'that', 'it', 'could', 'create', 'as', 'many', 'as', '28,000', 'much', 'needed', 'new', 'jobs', 'each', 'year', '.', 'He', 'also', 'says', 'it', 'would', 'allow', 'Morocco', 'to', '``', 'position', 'itself', 'as', 'an', 'industrial', 'hub', 'for', 'investments', 'for', 'exports', 'of', 'green', 'industrial', 'products', \"''\", 'such', 'as', 'car', 'manufacturing', 'using', 'renewable', 'energy.Yet', 'the', 'World', 'Bank', 'estimates', 'that', 'it', 'will', 'cost', '$', '52bn', '(', '£41.6bn', ')', 'for', 'Morocco', 'to', 'hit', 'its', '2030', 'renewables', 'target', ',', 'with', 'most', 'of', 'that', 'money', 'having', 'to', 'come', 'from', 'the', 'private', 'sector', '.', 'The', 'Moroccan', 'government', 'agrees', 'with', 'that.The', 'administration', 'is', 'acutely', 'aware', 'of', 'the', 'potential', 'benefits', ',', 'and', 'is', 'trying', 'to', 'accelerate', 'the', 'renewable', 'vision', 'first', 'laid', 'out', 'by', 'King', 'Mohammed', 'VI', 'in', '2009.Morocco', \"'s\", 'Minister', 'of', 'Energy', 'Transition', 'and', 'Sustainable', 'Development', 'Leila', 'Benali', 'says', 'some', 'of', 'the', 'slow', 'growth', 'in', 'renewables', 'in', 'the', 'country', 'in', 'recent', 'years', 'has', 'been', 'caused', 'by', 'global', 'factors.Image', 'caption', ',', 'Energy', 'Transition', 'Minister', 'Leila', 'Benali', 'is', 'trying', 'to', 'speed', 'up', 'the', 'country', \"'s\", 'shift', 'to', 'renewable', 'power', \"''\", 'The', 'world', 'is', 'just', 'coming', 'out', 'from', 'a', 'historic', 'pandemic', ',', 'total', 'dislocation', 'of', 'supply', 'chains', 'and', 'value', 'chains', '-', 'also', 'affecting', 'renewable', 'energy', ',', 'including', 'the', 'way', 'we', 'trade', 'solar', 'panels', 'and', 'wind', 'turbines', '.', '``', 'However', ',', 'she', 'acknowledges', 'there', 'are', 'also', 'internal', 'hurdles', 'to', 'overcome', '.', 'Those', 'include', '``', 'speeding', 'up', 'and', 'streamlining', 'bureaucracy', \"''\", ',', 'including', 'making', 'sure', 'companies', 'get', 'things', 'such', 'as', '``', 'access', 'to', 'land', 'permits', 'relatively', 'fast', 'to', 'ensure', 'that', 'investors', 'get', 'access', 'to', 'the', 'opportunities', 'that', 'they', 'want', \"''\", '.Mrs', 'Benali', 'adds', 'that', 'the', 'government', \"'s\", 'energy', 'strategy', 'is', 'based', 'on', 'the', 'three', 'pillars', 'of', 'ramping', 'up', 'renewables', ',', 'increasing', 'efficiency', ',', 'and', 'more', 'integration', 'into', 'international', 'energy', 'markets', '.', 'When', 'asked', 'if', 'it', 'makes', 'sense', 'to', 'export', 'green', 'electricity', 'before', 'all', 'of', 'Morocco', \"'s\", 'own', 'needs', 'are', 'met', 'through', 'renewables', ',', 'Mrs', 'Benali', 'says', 'that', 'the', '``', 'priority', \"''\", 'is', 'for', 'Moroccans', 'to', 'have', 'access', 'to', 'the', '``', 'lowest-cost', \"''\", 'green', 'energy.She', 'adds', 'that', 'there', 'is', 'also', 'a', 'need', 'to', 'take', 'advantage', 'of', 'the', '``', 'historic', 'opportunity', \"''\", 'to', 'integrate', 'with', 'Europe', \"'s\", 'energy', 'market', ',', 'and', 'that', 'such', 'opportunities', 'could', 'be', 'an', 'incentive', 'for', 'the', 'much', 'needed', 'private', 'investment', '.', 'The', 'World', 'Bank', \"'s\", 'Moez', 'Cherif', 'believes', 'that', 'Morocco', 'should', 'both', 'increase', 'exports', 'of', 'renewable', 'power', ',', 'and', 'add', 'more', 'for', 'domestic', 'consumption', '.', '``', 'Ideally', 'you', 'should', 'do', 'both', ',', \"''\", 'he', 'says.Global', 'TradeMore', 'from', 'the', 'BBC', \"'s\", 'series', 'taking', 'an', 'international', 'perspective', 'on', 'trade.At', 'last', 'November', \"'s\", 'COP27', 'climate', 'change', 'conference', 'in', 'Sharm', 'el-Sheikh', ',', 'Morocco', 'signed', 'a', 'memorandum', 'of', 'understanding', 'with', 'France', ',', 'Germany', ',', 'Portugal', 'and', 'Spain', 'to', 'make', 'it', 'easier', 'to', 'sell', 'power', 'across', 'borders.However', ',', 'climate', 'change', 'activist', 'Hajar', 'Khalmichi', ',', 'from', 'the', 'Mediterranean', 'Youth', 'Climate', 'Network', ',', 'says', 'she', 'wants', 'to', 'see', 'Morocco', 'fulfil', 'all', 'its', 'domestic', 'energy', 'needs', 'from', 'renewables', 'before', 'thinking', 'of', 'exporting', 'any', 'electricity.She', 'also', 'thinks', 'that', 'the', 'ambition', 'of', '52', '%', 'of', 'electricity', 'coming', 'from', 'renewables', 'does', \"n't\", 'go', 'far', 'enough', ',', 'and', 'that', 'there', 'has', \"n't\", 'been', 'enough', 'discussion', 'about', 'where', 'the', 'rest', 'will', 'come', 'from', 'as', 'Morocco', 'tries', 'to', 'lower', 'its', 'dependency', 'on', 'its', 'gas', ',', 'oil', 'and', 'coal', 'power', 'stations.Ms', 'Khalmichi', 'adds', 'that', 'she', 'is', 'also', 'concerned', 'that', 'the', 'country', 'is', 'exploring', 'for', 'natural', 'gas', 'off', 'its', 'coastline.The', 'Moroccan', 'government', 'counters', 'that', 'it', 'has', 'similar', 'challenges', 'to', 'other', 'countries', 'that', 'are', 'going', 'big', 'on', 'renewables', ',', 'and', 'that', 'it', 'needs', 'gas', 'to', 'deal', 'with', 'the', 'fact', 'that', 'the', 'wind', 'does', \"n't\", 'always', 'blow', 'and', 'the', 'sun', 'does', \"n't\", 'always', 'shine.Mr', 'Cherif', 'says', '``', 'there', 'may', 'be', 'a', 'role', ',', 'a', 'transition', 'role', 'for', 'natural', 'gas', '[', 'in', 'Morocco', ']', \"''\", 'as', 'the', 'move', 'from', 'fossil', 'fuels', 'to', 'renewables', 'will', 'be', 'a', 'gradual', 'one', 'over', 'the', 'course', 'of', 'decades.Moundir', 'Zniber', 'adds', 'that', 'Morocco', 'needs', '``', 'a', 'mix', \"''\", 'of', 'energy', 'sources', '.', '``', 'Renewables', 'are', 'part', 'of', 'the', 'solution', 'on', 'the', 'electric', 'side', '.', \"''\"]\n"
     ]
    }
   ],
   "source": [
    "# Fem la divisió en tokens ('tokenize'):\n",
    "\n",
    "import nltk\n",
    "from nltk.tokenize import word_tokenize\n",
    "from nltk.probability import FreqDist\n",
    "\n",
    "tokens = word_tokenize(text_split)\n",
    "\n",
    "print(tokens)"
   ]
  },
  {
   "cell_type": "code",
   "execution_count": 54,
   "id": "8331a68c",
   "metadata": {},
   "outputs": [
    {
     "name": "stdout",
     "output_type": "stream",
     "text": [
      "[('the', 56), (',', 55), ('to', 43), ('of', 41), ('that', 30), ('and', 29), ('.', 25), ('is', 22), ('``', 20), ('Morocco', 18), ('from', 17), (\"'s\", 17), (\"''\", 16), ('in', 14), ('has', 13), ('energy', 13), ('wind', 12), ('for', 12), ('a', 12), ('electricity', 10)]\n"
     ]
    }
   ],
   "source": [
    "# Calculem la freqüencia de les paraules\n",
    "\n",
    "freq_dist_tokens = FreqDist(tokens)\n",
    "\n",
    "print(freq_dist_tokens.most_common(20))  # primeres (20) paraules amb més frequència"
   ]
  },
  {
   "cell_type": "markdown",
   "id": "701261ca",
   "metadata": {},
   "source": [
    "#### Comentaris:\n",
    "\n",
    "- Observem que al fer 'tokenize' i porteriorment calcular la frequència, a part de les paraules, també calcula la resta de símbols i signes de puntuació.\n",
    "- 'Elminem' aquests símbols i signes de puntuació mitjançant la funció \"re.sub(r'[^\\w\\s]'\" que elimina tots els caracters que nos son paraules ni espais en blanc."
   ]
  },
  {
   "cell_type": "code",
   "execution_count": 55,
   "id": "f8ca0949",
   "metadata": {},
   "outputs": [
    {
     "name": "stdout",
     "output_type": "stream",
     "text": [
      "Morocco has big ambitions to export electricity produced by solar and wind farms to Europe but should it be prioritising such renewable energy for its home marketThe resources we have here could be one of the big big answers to European demand says Moroccan energy entrepreneur Moundir ZniberMr Zniber is a passionate man who senses opportunity out of crisisI think Morocco represents the best opportunity to get the European continent away from the dependency it has today on Russian gas he saysMr Zniber has spent the past 15 years building his company Gaia Energy into one of the leaders of a renewable energy revolution in his home countryMorocco has truly one of the best solar and wind resources in the world combined he says We dont have oil we dont have natural gas but we have a potential that is just amazingThe war in Ukraine has catalysed Europes politicians to increase their efforts to tackle climate change with new sources of clean energy Morocco hopes to be part of the solutionIt is on Europes doorstep and has ambitious plans to generate 52 of its electricity from renewable sources by 2030 The hope is that lots of this electricity will be exported via undersea cables to EuropeBut at present the country still has to build many more solar and wind farms Currently the north African nation of 39 million people depends on imports for 90 of its energy needs and most of that is from fossil fuelsIn 2021 some 805 of Moroccos electricity production came from burning coal gas and oil By contrast only 124 came from wind power and 44 came from solarImage caption Moundir Znibers company Gaia Energy is developing wind solar and green hydrogen power projects in 12 countries across AfricaHowever Morocco is already making some tangible progress to boost its renewable energy generation thanks to projects such as the huge NoorOuarzazate Solar Complex With the first phase opening back in 2016 this is now the worlds largest concentrated solar power plantSuch facilities use mirrors to reflect and concentrate sunlight onto central tower receivers These contain fluid that is heated by the light creating steam that spins turbines to generate electricityAt NoorOuarzazate the mirrors are now spread over 3000 hectares 116 sq miles The facility was developed by Saudi Arabian firm ACWA Power with funding also coming from the World Bank and European Investment BankMr Zniber says that private Moroccan firms like his are now planning to export solar and windgenerated electricity to Europe and green hydrogen  hydrogen that has been created by renewable energyHe adds that Gaia Energy is developing wind and solar schemes that could meet up to 4 of Germany and Italys electricity needs And in terms of green hydrogen we have six projects our company is developing that could answer 25 of the needs of the EUMeanwhile British energy startup Xlinks has plans to build an undersea electricity cable from Morocco to the UK Its hope is that Moroccan solar and wind power can provide 8 of the UKs electricity requirements by 2030Image source Getty ImagesImage caption Morocco is also investing in wind power such as this wind farm near TangiersIncreasing the size of Moroccos solar and wind power generation could help bolster economic growth in the country according to the World Bank It has provided millions of dollars of funding for the sectorsThe benefits include a decoupling from the very heavy volatility of the prices of fossil fuels according to the World Banks lead economist for the region Moez Cherif In a country with an unemployment rate of 112 Mr Cherif adds that it could create as many as 28000 much needed new jobs each year He also says it would allow Morocco to position itself as an industrial hub for investments for exports of green industrial products such as car manufacturing using renewable energyYet the World Bank estimates that it will cost 52bn 416bn for Morocco to hit its 2030 renewables target with most of that money having to come from the private sector The Moroccan government agrees with thatThe administration is acutely aware of the potential benefits and is trying to accelerate the renewable vision first laid out by King Mohammed VI in 2009Moroccos Minister of Energy Transition and Sustainable Development Leila Benali says some of the slow growth in renewables in the country in recent years has been caused by global factorsImage caption Energy Transition Minister Leila Benali is trying to speed up the countrys shift to renewable powerThe world is just coming out from a historic pandemic total dislocation of supply chains and value chains  also affecting renewable energy including the way we trade solar panels and wind turbinesHowever she acknowledges there are also internal hurdles to overcome Those include speeding up and streamlining bureaucracy including making sure companies get things such as access to land permits relatively fast to ensure that investors get access to the opportunities that they wantMrs Benali adds that the governments energy strategy is based on the three pillars of ramping up renewables increasing efficiency and more integration into international energy markets When asked if it makes sense to export green electricity before all of Moroccos own needs are met through renewables Mrs Benali says that the priority is for Moroccans to have access to the lowestcost green energyShe adds that there is also a need to take advantage of the historic opportunity to integrate with Europes energy market and that such opportunities could be an incentive for the much needed private investment The World Banks Moez Cherif believes that Morocco should both increase exports of renewable power and add more for domestic consumption Ideally you should do both he saysGlobal TradeMore from the BBCs series taking an international perspective on tradeAt last Novembers COP27 climate change conference in Sharm elSheikh Morocco signed a memorandum of understanding with France Germany Portugal and Spain to make it easier to sell power across bordersHowever climate change activist Hajar Khalmichi from the Mediterranean Youth Climate Network says she wants to see Morocco fulfil all its domestic energy needs from renewables before thinking of exporting any electricityShe also thinks that the ambition of 52 of electricity coming from renewables doesnt go far enough and that there hasnt been enough discussion about where the rest will come from as Morocco tries to lower its dependency on its gas oil and coal power stationsMs Khalmichi adds that she is also concerned that the country is exploring for natural gas off its coastlineThe Moroccan government counters that it has similar challenges to other countries that are going big on renewables and that it needs gas to deal with the fact that the wind doesnt always blow and the sun doesnt always shineMr Cherif says there may be a role a transition role for natural gas in Morocco as the move from fossil fuels to renewables will be a gradual one over the course of decadesMoundir Zniber adds that Morocco needs a mix of energy sources Renewables are part of the solution on the electric side\n"
     ]
    }
   ],
   "source": [
    "# text sense puntuació\n",
    "\n",
    "import re\n",
    "\n",
    "text_net = re.sub(r'[^\\w\\s]', '', text_split)\n",
    "\n",
    "print(text_net)"
   ]
  },
  {
   "cell_type": "code",
   "execution_count": 56,
   "id": "84d35b80",
   "metadata": {},
   "outputs": [
    {
     "name": "stdout",
     "output_type": "stream",
     "text": [
      "['Morocco', 'has', 'big', 'ambitions', 'to', 'export', 'electricity', 'produced', 'by', 'solar', 'and', 'wind', 'farms', 'to', 'Europe', 'but', 'should', 'it', 'be', 'prioritising', 'such', 'renewable', 'energy', 'for', 'its', 'home', 'marketThe', 'resources', 'we', 'have', 'here', 'could', 'be', 'one', 'of', 'the', 'big', 'big', 'answers', 'to', 'European', 'demand', 'says', 'Moroccan', 'energy', 'entrepreneur', 'Moundir', 'ZniberMr', 'Zniber', 'is', 'a', 'passionate', 'man', 'who', 'senses', 'opportunity', 'out', 'of', 'crisisI', 'think', 'Morocco', 'represents', 'the', 'best', 'opportunity', 'to', 'get', 'the', 'European', 'continent', 'away', 'from', 'the', 'dependency', 'it', 'has', 'today', 'on', 'Russian', 'gas', 'he', 'saysMr', 'Zniber', 'has', 'spent', 'the', 'past', '15', 'years', 'building', 'his', 'company', 'Gaia', 'Energy', 'into', 'one', 'of', 'the', 'leaders', 'of', 'a', 'renewable', 'energy', 'revolution', 'in', 'his', 'home', 'countryMorocco', 'has', 'truly', 'one', 'of', 'the', 'best', 'solar', 'and', 'wind', 'resources', 'in', 'the', 'world', 'combined', 'he', 'says', 'We', 'dont', 'have', 'oil', 'we', 'dont', 'have', 'natural', 'gas', 'but', 'we', 'have', 'a', 'potential', 'that', 'is', 'just', 'amazingThe', 'war', 'in', 'Ukraine', 'has', 'catalysed', 'Europes', 'politicians', 'to', 'increase', 'their', 'efforts', 'to', 'tackle', 'climate', 'change', 'with', 'new', 'sources', 'of', 'clean', 'energy', 'Morocco', 'hopes', 'to', 'be', 'part', 'of', 'the', 'solutionIt', 'is', 'on', 'Europes', 'doorstep', 'and', 'has', 'ambitious', 'plans', 'to', 'generate', '52', 'of', 'its', 'electricity', 'from', 'renewable', 'sources', 'by', '2030', 'The', 'hope', 'is', 'that', 'lots', 'of', 'this', 'electricity', 'will', 'be', 'exported', 'via', 'undersea', 'cables', 'to', 'EuropeBut', 'at', 'present', 'the', 'country', 'still', 'has', 'to', 'build', 'many', 'more', 'solar', 'and', 'wind', 'farms', 'Currently', 'the', 'north', 'African', 'nation', 'of', '39', 'million', 'people', 'depends', 'on', 'imports', 'for', '90', 'of', 'its', 'energy', 'needs', 'and', 'most', 'of', 'that', 'is', 'from', 'fossil', 'fuelsIn', '2021', 'some', '805', 'of', 'Moroccos', 'electricity', 'production', 'came', 'from', 'burning', 'coal', 'gas', 'and', 'oil', 'By', 'contrast', 'only', '124', 'came', 'from', 'wind', 'power', 'and', '44', 'came', 'from', 'solarImage', 'caption', 'Moundir', 'Znibers', 'company', 'Gaia', 'Energy', 'is', 'developing', 'wind', 'solar', 'and', 'green', 'hydrogen', 'power', 'projects', 'in', '12', 'countries', 'across', 'AfricaHowever', 'Morocco', 'is', 'already', 'making', 'some', 'tangible', 'progress', 'to', 'boost', 'its', 'renewable', 'energy', 'generation', 'thanks', 'to', 'projects', 'such', 'as', 'the', 'huge', 'NoorOuarzazate', 'Solar', 'Complex', 'With', 'the', 'first', 'phase', 'opening', 'back', 'in', '2016', 'this', 'is', 'now', 'the', 'worlds', 'largest', 'concentrated', 'solar', 'power', 'plantSuch', 'facilities', 'use', 'mirrors', 'to', 'reflect', 'and', 'concentrate', 'sunlight', 'onto', 'central', 'tower', 'receivers', 'These', 'contain', 'fluid', 'that', 'is', 'heated', 'by', 'the', 'light', 'creating', 'steam', 'that', 'spins', 'turbines', 'to', 'generate', 'electricityAt', 'NoorOuarzazate', 'the', 'mirrors', 'are', 'now', 'spread', 'over', '3000', 'hectares', '116', 'sq', 'miles', 'The', 'facility', 'was', 'developed', 'by', 'Saudi', 'Arabian', 'firm', 'ACWA', 'Power', 'with', 'funding', 'also', 'coming', 'from', 'the', 'World', 'Bank', 'and', 'European', 'Investment', 'BankMr', 'Zniber', 'says', 'that', 'private', 'Moroccan', 'firms', 'like', 'his', 'are', 'now', 'planning', 'to', 'export', 'solar', 'and', 'windgenerated', 'electricity', 'to', 'Europe', 'and', 'green', 'hydrogen', 'hydrogen', 'that', 'has', 'been', 'created', 'by', 'renewable', 'energyHe', 'adds', 'that', 'Gaia', 'Energy', 'is', 'developing', 'wind', 'and', 'solar', 'schemes', 'that', 'could', 'meet', 'up', 'to', '4', 'of', 'Germany', 'and', 'Italys', 'electricity', 'needs', 'And', 'in', 'terms', 'of', 'green', 'hydrogen', 'we', 'have', 'six', 'projects', 'our', 'company', 'is', 'developing', 'that', 'could', 'answer', '25', 'of', 'the', 'needs', 'of', 'the', 'EUMeanwhile', 'British', 'energy', 'startup', 'Xlinks', 'has', 'plans', 'to', 'build', 'an', 'undersea', 'electricity', 'cable', 'from', 'Morocco', 'to', 'the', 'UK', 'Its', 'hope', 'is', 'that', 'Moroccan', 'solar', 'and', 'wind', 'power', 'can', 'provide', '8', 'of', 'the', 'UKs', 'electricity', 'requirements', 'by', '2030Image', 'source', 'Getty', 'ImagesImage', 'caption', 'Morocco', 'is', 'also', 'investing', 'in', 'wind', 'power', 'such', 'as', 'this', 'wind', 'farm', 'near', 'TangiersIncreasing', 'the', 'size', 'of', 'Moroccos', 'solar', 'and', 'wind', 'power', 'generation', 'could', 'help', 'bolster', 'economic', 'growth', 'in', 'the', 'country', 'according', 'to', 'the', 'World', 'Bank', 'It', 'has', 'provided', 'millions', 'of', 'dollars', 'of', 'funding', 'for', 'the', 'sectorsThe', 'benefits', 'include', 'a', 'decoupling', 'from', 'the', 'very', 'heavy', 'volatility', 'of', 'the', 'prices', 'of', 'fossil', 'fuels', 'according', 'to', 'the', 'World', 'Banks', 'lead', 'economist', 'for', 'the', 'region', 'Moez', 'Cherif', 'In', 'a', 'country', 'with', 'an', 'unemployment', 'rate', 'of', '112', 'Mr', 'Cherif', 'adds', 'that', 'it', 'could', 'create', 'as', 'many', 'as', '28000', 'much', 'needed', 'new', 'jobs', 'each', 'year', 'He', 'also', 'says', 'it', 'would', 'allow', 'Morocco', 'to', 'position', 'itself', 'as', 'an', 'industrial', 'hub', 'for', 'investments', 'for', 'exports', 'of', 'green', 'industrial', 'products', 'such', 'as', 'car', 'manufacturing', 'using', 'renewable', 'energyYet', 'the', 'World', 'Bank', 'estimates', 'that', 'it', 'will', 'cost', '52bn', '416bn', 'for', 'Morocco', 'to', 'hit', 'its', '2030', 'renewables', 'target', 'with', 'most', 'of', 'that', 'money', 'having', 'to', 'come', 'from', 'the', 'private', 'sector', 'The', 'Moroccan', 'government', 'agrees', 'with', 'thatThe', 'administration', 'is', 'acutely', 'aware', 'of', 'the', 'potential', 'benefits', 'and', 'is', 'trying', 'to', 'accelerate', 'the', 'renewable', 'vision', 'first', 'laid', 'out', 'by', 'King', 'Mohammed', 'VI', 'in', '2009Moroccos', 'Minister', 'of', 'Energy', 'Transition', 'and', 'Sustainable', 'Development', 'Leila', 'Benali', 'says', 'some', 'of', 'the', 'slow', 'growth', 'in', 'renewables', 'in', 'the', 'country', 'in', 'recent', 'years', 'has', 'been', 'caused', 'by', 'global', 'factorsImage', 'caption', 'Energy', 'Transition', 'Minister', 'Leila', 'Benali', 'is', 'trying', 'to', 'speed', 'up', 'the', 'countrys', 'shift', 'to', 'renewable', 'powerThe', 'world', 'is', 'just', 'coming', 'out', 'from', 'a', 'historic', 'pandemic', 'total', 'dislocation', 'of', 'supply', 'chains', 'and', 'value', 'chains', 'also', 'affecting', 'renewable', 'energy', 'including', 'the', 'way', 'we', 'trade', 'solar', 'panels', 'and', 'wind', 'turbinesHowever', 'she', 'acknowledges', 'there', 'are', 'also', 'internal', 'hurdles', 'to', 'overcome', 'Those', 'include', 'speeding', 'up', 'and', 'streamlining', 'bureaucracy', 'including', 'making', 'sure', 'companies', 'get', 'things', 'such', 'as', 'access', 'to', 'land', 'permits', 'relatively', 'fast', 'to', 'ensure', 'that', 'investors', 'get', 'access', 'to', 'the', 'opportunities', 'that', 'they', 'wantMrs', 'Benali', 'adds', 'that', 'the', 'governments', 'energy', 'strategy', 'is', 'based', 'on', 'the', 'three', 'pillars', 'of', 'ramping', 'up', 'renewables', 'increasing', 'efficiency', 'and', 'more', 'integration', 'into', 'international', 'energy', 'markets', 'When', 'asked', 'if', 'it', 'makes', 'sense', 'to', 'export', 'green', 'electricity', 'before', 'all', 'of', 'Moroccos', 'own', 'needs', 'are', 'met', 'through', 'renewables', 'Mrs', 'Benali', 'says', 'that', 'the', 'priority', 'is', 'for', 'Moroccans', 'to', 'have', 'access', 'to', 'the', 'lowestcost', 'green', 'energyShe', 'adds', 'that', 'there', 'is', 'also', 'a', 'need', 'to', 'take', 'advantage', 'of', 'the', 'historic', 'opportunity', 'to', 'integrate', 'with', 'Europes', 'energy', 'market', 'and', 'that', 'such', 'opportunities', 'could', 'be', 'an', 'incentive', 'for', 'the', 'much', 'needed', 'private', 'investment', 'The', 'World', 'Banks', 'Moez', 'Cherif', 'believes', 'that', 'Morocco', 'should', 'both', 'increase', 'exports', 'of', 'renewable', 'power', 'and', 'add', 'more', 'for', 'domestic', 'consumption', 'Ideally', 'you', 'should', 'do', 'both', 'he', 'saysGlobal', 'TradeMore', 'from', 'the', 'BBCs', 'series', 'taking', 'an', 'international', 'perspective', 'on', 'tradeAt', 'last', 'Novembers', 'COP27', 'climate', 'change', 'conference', 'in', 'Sharm', 'elSheikh', 'Morocco', 'signed', 'a', 'memorandum', 'of', 'understanding', 'with', 'France', 'Germany', 'Portugal', 'and', 'Spain', 'to', 'make', 'it', 'easier', 'to', 'sell', 'power', 'across', 'bordersHowever', 'climate', 'change', 'activist', 'Hajar', 'Khalmichi', 'from', 'the', 'Mediterranean', 'Youth', 'Climate', 'Network', 'says', 'she', 'wants', 'to', 'see', 'Morocco', 'fulfil', 'all', 'its', 'domestic', 'energy', 'needs', 'from', 'renewables', 'before', 'thinking', 'of', 'exporting', 'any', 'electricityShe', 'also', 'thinks', 'that', 'the', 'ambition', 'of', '52', 'of', 'electricity', 'coming', 'from', 'renewables', 'doesnt', 'go', 'far', 'enough', 'and', 'that', 'there', 'hasnt', 'been', 'enough', 'discussion', 'about', 'where', 'the', 'rest', 'will', 'come', 'from', 'as', 'Morocco', 'tries', 'to', 'lower', 'its', 'dependency', 'on', 'its', 'gas', 'oil', 'and', 'coal', 'power', 'stationsMs', 'Khalmichi', 'adds', 'that', 'she', 'is', 'also', 'concerned', 'that', 'the', 'country', 'is', 'exploring', 'for', 'natural', 'gas', 'off', 'its', 'coastlineThe', 'Moroccan', 'government', 'counters', 'that', 'it', 'has', 'similar', 'challenges', 'to', 'other', 'countries', 'that', 'are', 'going', 'big', 'on', 'renewables', 'and', 'that', 'it', 'needs', 'gas', 'to', 'deal', 'with', 'the', 'fact', 'that', 'the', 'wind', 'doesnt', 'always', 'blow', 'and', 'the', 'sun', 'doesnt', 'always', 'shineMr', 'Cherif', 'says', 'there', 'may', 'be', 'a', 'role', 'a', 'transition', 'role', 'for', 'natural', 'gas', 'in', 'Morocco', 'as', 'the', 'move', 'from', 'fossil', 'fuels', 'to', 'renewables', 'will', 'be', 'a', 'gradual', 'one', 'over', 'the', 'course', 'of', 'decadesMoundir', 'Zniber', 'adds', 'that', 'Morocco', 'needs', 'a', 'mix', 'of', 'energy', 'sources', 'Renewables', 'are', 'part', 'of', 'the', 'solution', 'on', 'the', 'electric', 'side']\n"
     ]
    }
   ],
   "source": [
    "# Tornem a fer la divisió en tokens ('tokenize'):\n",
    "\n",
    "tokens_net = word_tokenize(text_net)\n",
    "\n",
    "print(tokens_net)"
   ]
  },
  {
   "cell_type": "code",
   "execution_count": 57,
   "id": "2ee4e13b",
   "metadata": {},
   "outputs": [
    {
     "name": "stdout",
     "output_type": "stream",
     "text": [
      "[('the', 56), ('to', 43), ('of', 41), ('that', 30), ('and', 29), ('is', 22), ('from', 17), ('Morocco', 14), ('in', 14), ('energy', 13), ('has', 12), ('wind', 12), ('for', 12), ('a', 12), ('electricity', 10), ('solar', 10), ('renewable', 10), ('it', 9), ('its', 9), ('power', 9)]\n"
     ]
    }
   ],
   "source": [
    "# I tornem a calcular la freqüencia de les paraules\n",
    "\n",
    "freq_dist_tokens_net = FreqDist(tokens_net)\n",
    "\n",
    "print(freq_dist_tokens_net.most_common(20))  # primeres (20) paraules amb més frequència"
   ]
  },
  {
   "cell_type": "markdown",
   "id": "40ba3654",
   "metadata": {},
   "source": [
    "#### Comentaris:\n",
    "\n",
    "- Un cop eliminat els signes de puntuació, etc., observem que se'ns indica únicament la freqüencia de paraules i no de signes de puntuació.\n"
   ]
  },
  {
   "cell_type": "markdown",
   "id": "053f4c57",
   "metadata": {},
   "source": [
    "--------------------------------------------------------------------------------------------------------------------------------"
   ]
  },
  {
   "cell_type": "markdown",
   "id": "3373e4db",
   "metadata": {},
   "source": [
    "### Exercici 2: \n",
    "\n",
    "Treu les stopwords i realitza stemming al teu conjunt de dades."
   ]
  },
  {
   "cell_type": "markdown",
   "id": "3df0e140",
   "metadata": {},
   "source": [
    "#### Eliminació 'stopwords'\n",
    "\n",
    "- Les 'stopwords' son totes aquelles paraules comuns i irrellevants que son poc probable que transmetin opinions.\n",
    "- Les 'stopwords' son paraules comuns que no tenen molt significat com: \"and\", \"the\", \"it\"..."
   ]
  },
  {
   "cell_type": "code",
   "execution_count": 58,
   "id": "28f64275",
   "metadata": {},
   "outputs": [
    {
     "name": "stderr",
     "output_type": "stream",
     "text": [
      "[nltk_data] Downloading package stopwords to\n",
      "[nltk_data]     C:\\Users\\RSIMONNE\\AppData\\Roaming\\nltk_data...\n",
      "[nltk_data]   Package stopwords is already up-to-date!\n"
     ]
    }
   ],
   "source": [
    "# Carreguem la llista de 'stopwords' en 'english'\n",
    "\n",
    "import nltk\n",
    "nltk.download('stopwords')\n",
    "\n",
    "from nltk.corpus import stopwords\n",
    "stop_words = set(stopwords.words('english'))\n",
    "\n"
   ]
  },
  {
   "cell_type": "code",
   "execution_count": 59,
   "id": "b1387ac3",
   "metadata": {},
   "outputs": [
    {
     "name": "stdout",
     "output_type": "stream",
     "text": [
      "['Morocco', 'big', 'ambitions', 'export', 'electricity', 'produced', 'solar', 'wind', 'farms', 'Europe', 'prioritising', 'renewable', 'energy', 'home', 'marketThe', 'resources', 'could', 'one', 'big', 'big', 'answers', 'European', 'demand', 'says', 'Moroccan', 'energy', 'entrepreneur', 'Moundir', 'ZniberMr', 'Zniber', 'passionate', 'man', 'senses', 'opportunity', 'crisisI', 'think', 'Morocco', 'represents', 'best', 'opportunity', 'get', 'European', 'continent', 'away', 'dependency', 'today', 'Russian', 'gas', 'saysMr', 'Zniber', 'spent', 'past', '15', 'years', 'building', 'company', 'Gaia', 'Energy', 'one', 'leaders', 'renewable', 'energy', 'revolution', 'home', 'countryMorocco', 'truly', 'one', 'best', 'solar', 'wind', 'resources', 'world', 'combined', 'says', 'dont', 'oil', 'dont', 'natural', 'gas', 'potential', 'amazingThe', 'war', 'Ukraine', 'catalysed', 'Europes', 'politicians', 'increase', 'efforts', 'tackle', 'climate', 'change', 'new', 'sources', 'clean', 'energy', 'Morocco', 'hopes', 'part', 'solutionIt', 'Europes', 'doorstep', 'ambitious', 'plans', 'generate', '52', 'electricity', 'renewable', 'sources', '2030', 'hope', 'lots', 'electricity', 'exported', 'via', 'undersea', 'cables', 'EuropeBut', 'present', 'country', 'still', 'build', 'many', 'solar', 'wind', 'farms', 'Currently', 'north', 'African', 'nation', '39', 'million', 'people', 'depends', 'imports', '90', 'energy', 'needs', 'fossil', 'fuelsIn', '2021', '805', 'Moroccos', 'electricity', 'production', 'came', 'burning', 'coal', 'gas', 'oil', 'contrast', '124', 'came', 'wind', 'power', '44', 'came', 'solarImage', 'caption', 'Moundir', 'Znibers', 'company', 'Gaia', 'Energy', 'developing', 'wind', 'solar', 'green', 'hydrogen', 'power', 'projects', '12', 'countries', 'across', 'AfricaHowever', 'Morocco', 'already', 'making', 'tangible', 'progress', 'boost', 'renewable', 'energy', 'generation', 'thanks', 'projects', 'huge', 'NoorOuarzazate', 'Solar', 'Complex', 'first', 'phase', 'opening', 'back', '2016', 'worlds', 'largest', 'concentrated', 'solar', 'power', 'plantSuch', 'facilities', 'use', 'mirrors', 'reflect', 'concentrate', 'sunlight', 'onto', 'central', 'tower', 'receivers', 'contain', 'fluid', 'heated', 'light', 'creating', 'steam', 'spins', 'turbines', 'generate', 'electricityAt', 'NoorOuarzazate', 'mirrors', 'spread', '3000', 'hectares', '116', 'sq', 'miles', 'facility', 'developed', 'Saudi', 'Arabian', 'firm', 'ACWA', 'Power', 'funding', 'also', 'coming', 'World', 'Bank', 'European', 'Investment', 'BankMr', 'Zniber', 'says', 'private', 'Moroccan', 'firms', 'like', 'planning', 'export', 'solar', 'windgenerated', 'electricity', 'Europe', 'green', 'hydrogen', 'hydrogen', 'created', 'renewable', 'energyHe', 'adds', 'Gaia', 'Energy', 'developing', 'wind', 'solar', 'schemes', 'could', 'meet', '4', 'Germany', 'Italys', 'electricity', 'needs', 'terms', 'green', 'hydrogen', 'six', 'projects', 'company', 'developing', 'could', 'answer', '25', 'needs', 'EUMeanwhile', 'British', 'energy', 'startup', 'Xlinks', 'plans', 'build', 'undersea', 'electricity', 'cable', 'Morocco', 'UK', 'hope', 'Moroccan', 'solar', 'wind', 'power', 'provide', '8', 'UKs', 'electricity', 'requirements', '2030Image', 'source', 'Getty', 'ImagesImage', 'caption', 'Morocco', 'also', 'investing', 'wind', 'power', 'wind', 'farm', 'near', 'TangiersIncreasing', 'size', 'Moroccos', 'solar', 'wind', 'power', 'generation', 'could', 'help', 'bolster', 'economic', 'growth', 'country', 'according', 'World', 'Bank', 'provided', 'millions', 'dollars', 'funding', 'sectorsThe', 'benefits', 'include', 'decoupling', 'heavy', 'volatility', 'prices', 'fossil', 'fuels', 'according', 'World', 'Banks', 'lead', 'economist', 'region', 'Moez', 'Cherif', 'country', 'unemployment', 'rate', '112', 'Mr', 'Cherif', 'adds', 'could', 'create', 'many', '28000', 'much', 'needed', 'new', 'jobs', 'year', 'also', 'says', 'would', 'allow', 'Morocco', 'position', 'industrial', 'hub', 'investments', 'exports', 'green', 'industrial', 'products', 'car', 'manufacturing', 'using', 'renewable', 'energyYet', 'World', 'Bank', 'estimates', 'cost', '52bn', '416bn', 'Morocco', 'hit', '2030', 'renewables', 'target', 'money', 'come', 'private', 'sector', 'Moroccan', 'government', 'agrees', 'thatThe', 'administration', 'acutely', 'aware', 'potential', 'benefits', 'trying', 'accelerate', 'renewable', 'vision', 'first', 'laid', 'King', 'Mohammed', 'VI', '2009Moroccos', 'Minister', 'Energy', 'Transition', 'Sustainable', 'Development', 'Leila', 'Benali', 'says', 'slow', 'growth', 'renewables', 'country', 'recent', 'years', 'caused', 'global', 'factorsImage', 'caption', 'Energy', 'Transition', 'Minister', 'Leila', 'Benali', 'trying', 'speed', 'countrys', 'shift', 'renewable', 'powerThe', 'world', 'coming', 'historic', 'pandemic', 'total', 'dislocation', 'supply', 'chains', 'value', 'chains', 'also', 'affecting', 'renewable', 'energy', 'including', 'way', 'trade', 'solar', 'panels', 'wind', 'turbinesHowever', 'acknowledges', 'also', 'internal', 'hurdles', 'overcome', 'include', 'speeding', 'streamlining', 'bureaucracy', 'including', 'making', 'sure', 'companies', 'get', 'things', 'access', 'land', 'permits', 'relatively', 'fast', 'ensure', 'investors', 'get', 'access', 'opportunities', 'wantMrs', 'Benali', 'adds', 'governments', 'energy', 'strategy', 'based', 'three', 'pillars', 'ramping', 'renewables', 'increasing', 'efficiency', 'integration', 'international', 'energy', 'markets', 'asked', 'makes', 'sense', 'export', 'green', 'electricity', 'Moroccos', 'needs', 'met', 'renewables', 'Mrs', 'Benali', 'says', 'priority', 'Moroccans', 'access', 'lowestcost', 'green', 'energyShe', 'adds', 'also', 'need', 'take', 'advantage', 'historic', 'opportunity', 'integrate', 'Europes', 'energy', 'market', 'opportunities', 'could', 'incentive', 'much', 'needed', 'private', 'investment', 'World', 'Banks', 'Moez', 'Cherif', 'believes', 'Morocco', 'increase', 'exports', 'renewable', 'power', 'add', 'domestic', 'consumption', 'Ideally', 'saysGlobal', 'TradeMore', 'BBCs', 'series', 'taking', 'international', 'perspective', 'tradeAt', 'last', 'Novembers', 'COP27', 'climate', 'change', 'conference', 'Sharm', 'elSheikh', 'Morocco', 'signed', 'memorandum', 'understanding', 'France', 'Germany', 'Portugal', 'Spain', 'make', 'easier', 'sell', 'power', 'across', 'bordersHowever', 'climate', 'change', 'activist', 'Hajar', 'Khalmichi', 'Mediterranean', 'Youth', 'Climate', 'Network', 'says', 'wants', 'see', 'Morocco', 'fulfil', 'domestic', 'energy', 'needs', 'renewables', 'thinking', 'exporting', 'electricityShe', 'also', 'thinks', 'ambition', '52', 'electricity', 'coming', 'renewables', 'doesnt', 'go', 'far', 'enough', 'hasnt', 'enough', 'discussion', 'rest', 'come', 'Morocco', 'tries', 'lower', 'dependency', 'gas', 'oil', 'coal', 'power', 'stationsMs', 'Khalmichi', 'adds', 'also', 'concerned', 'country', 'exploring', 'natural', 'gas', 'coastlineThe', 'Moroccan', 'government', 'counters', 'similar', 'challenges', 'countries', 'going', 'big', 'renewables', 'needs', 'gas', 'deal', 'fact', 'wind', 'doesnt', 'always', 'blow', 'sun', 'doesnt', 'always', 'shineMr', 'Cherif', 'says', 'may', 'role', 'transition', 'role', 'natural', 'gas', 'Morocco', 'move', 'fossil', 'fuels', 'renewables', 'gradual', 'one', 'course', 'decadesMoundir', 'Zniber', 'adds', 'Morocco', 'needs', 'mix', 'energy', 'sources', 'Renewables', 'part', 'solution', 'electric', 'side']\n"
     ]
    }
   ],
   "source": [
    "# Eliminem les 'stopwords' del text:\n",
    "\n",
    "filtered_tokens = [token for token in tokens_net if token.lower() not in stop_words]\n",
    "\n",
    "print(filtered_tokens)"
   ]
  },
  {
   "cell_type": "code",
   "execution_count": 60,
   "id": "9abd48f5",
   "metadata": {},
   "outputs": [
    {
     "name": "stdout",
     "output_type": "stream",
     "text": [
      "[('Morocco', 14), ('energy', 13), ('wind', 12), ('electricity', 10), ('solar', 10), ('renewable', 10), ('power', 9), ('says', 8), ('also', 8), ('renewables', 8), ('gas', 7), ('needs', 7), ('could', 6), ('green', 6), ('adds', 6), ('Moroccan', 5), ('Energy', 5), ('country', 5), ('World', 5), ('big', 4)]\n"
     ]
    }
   ],
   "source": [
    "# I tornem a calcular la freqüencia de les paraules\n",
    "\n",
    "freq_dist_filtered_tokens = FreqDist(filtered_tokens)\n",
    "\n",
    "print(freq_dist_filtered_tokens.most_common(20))      # primeres (20) paraules amb més frequència"
   ]
  },
  {
   "cell_type": "markdown",
   "id": "a3299cca",
   "metadata": {},
   "source": [
    "#### Comentaris:\n",
    "\n",
    "- Podem comprovar que s'han eliminat les 'stopwords'.\n",
    "- Anteriorment la paraula 'the', 'to' o 'of' (incloses al llistat de 'stopwords') eren les de major freqüència al text.\n",
    "- Havent procedit a eliminar les 'stopwords' observem que les paraules de major freqüència son 'Morocco', 'energy', 'wind', etc."
   ]
  },
  {
   "cell_type": "markdown",
   "id": "e89fad2f",
   "metadata": {},
   "source": [
    "#### 'Stemming'\n",
    "\n",
    "- Reducció de les paraules a la seva arrel o base morfològica"
   ]
  },
  {
   "cell_type": "code",
   "execution_count": 61,
   "id": "52b8fb3a",
   "metadata": {},
   "outputs": [
    {
     "name": "stdout",
     "output_type": "stream",
     "text": [
      "['morocco', 'big', 'ambit', 'export', 'electr', 'produc', 'solar', 'wind', 'farm', 'europ', 'prioritis', 'renew', 'energi', 'home', 'marketth', 'resourc', 'could', 'one', 'big', 'big', 'answer', 'european', 'demand', 'say', 'moroccan', 'energi', 'entrepreneur', 'moundir', 'znibermr', 'zniber', 'passion', 'man', 'sens', 'opportun', 'crisisi', 'think', 'morocco', 'repres', 'best', 'opportun', 'get', 'european', 'contin', 'away', 'depend', 'today', 'russian', 'ga', 'saysmr', 'zniber', 'spent', 'past', '15', 'year', 'build', 'compani', 'gaia', 'energi', 'one', 'leader', 'renew', 'energi', 'revolut', 'home', 'countrymorocco', 'truli', 'one', 'best', 'solar', 'wind', 'resourc', 'world', 'combin', 'say', 'dont', 'oil', 'dont', 'natur', 'ga', 'potenti', 'amazingth', 'war', 'ukrain', 'catalys', 'europ', 'politician', 'increas', 'effort', 'tackl', 'climat', 'chang', 'new', 'sourc', 'clean', 'energi', 'morocco', 'hope', 'part', 'solutionit', 'europ', 'doorstep', 'ambiti', 'plan', 'gener', '52', 'electr', 'renew', 'sourc', '2030', 'hope', 'lot', 'electr', 'export', 'via', 'undersea', 'cabl', 'europebut', 'present', 'countri', 'still', 'build', 'mani', 'solar', 'wind', 'farm', 'current', 'north', 'african', 'nation', '39', 'million', 'peopl', 'depend', 'import', '90', 'energi', 'need', 'fossil', 'fuelsin', '2021', '805', 'morocco', 'electr', 'product', 'came', 'burn', 'coal', 'ga', 'oil', 'contrast', '124', 'came', 'wind', 'power', '44', 'came', 'solarimag', 'caption', 'moundir', 'zniber', 'compani', 'gaia', 'energi', 'develop', 'wind', 'solar', 'green', 'hydrogen', 'power', 'project', '12', 'countri', 'across', 'africahowev', 'morocco', 'alreadi', 'make', 'tangibl', 'progress', 'boost', 'renew', 'energi', 'gener', 'thank', 'project', 'huge', 'noorouarzaz', 'solar', 'complex', 'first', 'phase', 'open', 'back', '2016', 'world', 'largest', 'concentr', 'solar', 'power', 'plantsuch', 'facil', 'use', 'mirror', 'reflect', 'concentr', 'sunlight', 'onto', 'central', 'tower', 'receiv', 'contain', 'fluid', 'heat', 'light', 'creat', 'steam', 'spin', 'turbin', 'gener', 'electricityat', 'noorouarzaz', 'mirror', 'spread', '3000', 'hectar', '116', 'sq', 'mile', 'facil', 'develop', 'saudi', 'arabian', 'firm', 'acwa', 'power', 'fund', 'also', 'come', 'world', 'bank', 'european', 'invest', 'bankmr', 'zniber', 'say', 'privat', 'moroccan', 'firm', 'like', 'plan', 'export', 'solar', 'windgener', 'electr', 'europ', 'green', 'hydrogen', 'hydrogen', 'creat', 'renew', 'energyh', 'add', 'gaia', 'energi', 'develop', 'wind', 'solar', 'scheme', 'could', 'meet', '4', 'germani', 'itali', 'electr', 'need', 'term', 'green', 'hydrogen', 'six', 'project', 'compani', 'develop', 'could', 'answer', '25', 'need', 'eumeanwhil', 'british', 'energi', 'startup', 'xlink', 'plan', 'build', 'undersea', 'electr', 'cabl', 'morocco', 'uk', 'hope', 'moroccan', 'solar', 'wind', 'power', 'provid', '8', 'uk', 'electr', 'requir', '2030imag', 'sourc', 'getti', 'imagesimag', 'caption', 'morocco', 'also', 'invest', 'wind', 'power', 'wind', 'farm', 'near', 'tangiersincreas', 'size', 'morocco', 'solar', 'wind', 'power', 'gener', 'could', 'help', 'bolster', 'econom', 'growth', 'countri', 'accord', 'world', 'bank', 'provid', 'million', 'dollar', 'fund', 'sectorsth', 'benefit', 'includ', 'decoupl', 'heavi', 'volatil', 'price', 'fossil', 'fuel', 'accord', 'world', 'bank', 'lead', 'economist', 'region', 'moez', 'cherif', 'countri', 'unemploy', 'rate', '112', 'mr', 'cherif', 'add', 'could', 'creat', 'mani', '28000', 'much', 'need', 'new', 'job', 'year', 'also', 'say', 'would', 'allow', 'morocco', 'posit', 'industri', 'hub', 'invest', 'export', 'green', 'industri', 'product', 'car', 'manufactur', 'use', 'renew', 'energyyet', 'world', 'bank', 'estim', 'cost', '52bn', '416bn', 'morocco', 'hit', '2030', 'renew', 'target', 'money', 'come', 'privat', 'sector', 'moroccan', 'govern', 'agre', 'thatth', 'administr', 'acut', 'awar', 'potenti', 'benefit', 'tri', 'acceler', 'renew', 'vision', 'first', 'laid', 'king', 'moham', 'vi', '2009morocco', 'minist', 'energi', 'transit', 'sustain', 'develop', 'leila', 'benali', 'say', 'slow', 'growth', 'renew', 'countri', 'recent', 'year', 'caus', 'global', 'factorsimag', 'caption', 'energi', 'transit', 'minist', 'leila', 'benali', 'tri', 'speed', 'countri', 'shift', 'renew', 'powerth', 'world', 'come', 'histor', 'pandem', 'total', 'disloc', 'suppli', 'chain', 'valu', 'chain', 'also', 'affect', 'renew', 'energi', 'includ', 'way', 'trade', 'solar', 'panel', 'wind', 'turbineshowev', 'acknowledg', 'also', 'intern', 'hurdl', 'overcom', 'includ', 'speed', 'streamlin', 'bureaucraci', 'includ', 'make', 'sure', 'compani', 'get', 'thing', 'access', 'land', 'permit', 'rel', 'fast', 'ensur', 'investor', 'get', 'access', 'opportun', 'wantmr', 'benali', 'add', 'govern', 'energi', 'strategi', 'base', 'three', 'pillar', 'ramp', 'renew', 'increas', 'effici', 'integr', 'intern', 'energi', 'market', 'ask', 'make', 'sens', 'export', 'green', 'electr', 'morocco', 'need', 'met', 'renew', 'mr', 'benali', 'say', 'prioriti', 'moroccan', 'access', 'lowestcost', 'green', 'energysh', 'add', 'also', 'need', 'take', 'advantag', 'histor', 'opportun', 'integr', 'europ', 'energi', 'market', 'opportun', 'could', 'incent', 'much', 'need', 'privat', 'invest', 'world', 'bank', 'moez', 'cherif', 'believ', 'morocco', 'increas', 'export', 'renew', 'power', 'add', 'domest', 'consumpt', 'ideal', 'saysglob', 'trademor', 'bbc', 'seri', 'take', 'intern', 'perspect', 'tradeat', 'last', 'novemb', 'cop27', 'climat', 'chang', 'confer', 'sharm', 'elsheikh', 'morocco', 'sign', 'memorandum', 'understand', 'franc', 'germani', 'portug', 'spain', 'make', 'easier', 'sell', 'power', 'across', 'bordershowev', 'climat', 'chang', 'activist', 'hajar', 'khalmichi', 'mediterranean', 'youth', 'climat', 'network', 'say', 'want', 'see', 'morocco', 'fulfil', 'domest', 'energi', 'need', 'renew', 'think', 'export', 'electricitysh', 'also', 'think', 'ambit', '52', 'electr', 'come', 'renew', 'doesnt', 'go', 'far', 'enough', 'hasnt', 'enough', 'discuss', 'rest', 'come', 'morocco', 'tri', 'lower', 'depend', 'ga', 'oil', 'coal', 'power', 'stationsm', 'khalmichi', 'add', 'also', 'concern', 'countri', 'explor', 'natur', 'ga', 'coastlineth', 'moroccan', 'govern', 'counter', 'similar', 'challeng', 'countri', 'go', 'big', 'renew', 'need', 'ga', 'deal', 'fact', 'wind', 'doesnt', 'alway', 'blow', 'sun', 'doesnt', 'alway', 'shinemr', 'cherif', 'say', 'may', 'role', 'transit', 'role', 'natur', 'ga', 'morocco', 'move', 'fossil', 'fuel', 'renew', 'gradual', 'one', 'cours', 'decadesmoundir', 'zniber', 'add', 'morocco', 'need', 'mix', 'energi', 'sourc', 'renew', 'part', 'solut', 'electr', 'side']\n"
     ]
    }
   ],
   "source": [
    "# Fem Stemming del text amb 'PorterStemmer'\n",
    "\n",
    "from nltk.stem import PorterStemmer\n",
    "stemmer = PorterStemmer()\n",
    "\n",
    "stemmed_tokens = [stemmer.stem(token) for token in filtered_tokens]\n",
    "\n",
    "print(stemmed_tokens)"
   ]
  },
  {
   "cell_type": "code",
   "execution_count": 62,
   "id": "3d47b550",
   "metadata": {},
   "outputs": [
    {
     "name": "stdout",
     "output_type": "stream",
     "text": [
      "[('renew', 19), ('energi', 18), ('morocco', 17), ('wind', 12), ('electr', 11), ('solar', 11), ('need', 10), ('power', 10), ('say', 8), ('world', 8), ('countri', 8), ('also', 8), ('export', 7), ('ga', 7), ('add', 7), ('could', 6), ('moroccan', 6), ('green', 6), ('europ', 5), ('zniber', 5)]\n"
     ]
    }
   ],
   "source": [
    "# I tornem a calcular la freqüencia de les paraules\n",
    "\n",
    "freq_dist_stemmed_tokens = FreqDist(stemmed_tokens)\n",
    "\n",
    "print(freq_dist_stemmed_tokens.most_common(20))      # primeres (20) paraules amb més frequència"
   ]
  },
  {
   "cell_type": "markdown",
   "id": "2d6570b6",
   "metadata": {},
   "source": [
    "#### Comentaris:\n",
    "\n",
    "- Observem en aquest cas que al reduir les paraules a la seva arrel obtenim freqüències diferents.\n",
    "- Les paraules 'renewable' i 'renewables' han passat a 'renew', fent sumar les frqüències de les dues paraules.\n"
   ]
  },
  {
   "cell_type": "code",
   "execution_count": 63,
   "id": "86d4ebbc",
   "metadata": {},
   "outputs": [
    {
     "name": "stdout",
     "output_type": "stream",
     "text": [
      "['morocco', 'big', 'ambit', 'export', 'electr', 'produc', 'solar', 'wind', 'farm', 'europ', 'prioritis', 'renew', 'energi', 'home', 'marketth', 'resourc', 'could', 'one', 'big', 'big', 'answer', 'european', 'demand', 'say', 'moroccan', 'energi', 'entrepreneur', 'moundir', 'znibermr', 'zniber', 'passion', 'man', 'sens', 'opportun', 'crisisi', 'think', 'morocco', 'repres', 'best', 'opportun', 'get', 'european', 'contin', 'away', 'depend', 'today', 'russian', 'gas', 'saysmr', 'zniber', 'spent', 'past', '15', 'year', 'build', 'compani', 'gaia', 'energi', 'one', 'leader', 'renew', 'energi', 'revolut', 'home', 'countrymorocco', 'truli', 'one', 'best', 'solar', 'wind', 'resourc', 'world', 'combin', 'say', 'dont', 'oil', 'dont', 'natur', 'gas', 'potenti', 'amazingth', 'war', 'ukrain', 'catalys', 'europ', 'politician', 'increas', 'effort', 'tackl', 'climat', 'chang', 'new', 'sourc', 'clean', 'energi', 'morocco', 'hope', 'part', 'solutionit', 'europ', 'doorstep', 'ambiti', 'plan', 'generat', '52', 'electr', 'renew', 'sourc', '2030', 'hope', 'lot', 'electr', 'export', 'via', 'undersea', 'cabl', 'europebut', 'present', 'countri', 'still', 'build', 'mani', 'solar', 'wind', 'farm', 'current', 'north', 'african', 'nation', '39', 'million', 'peopl', 'depend', 'import', '90', 'energi', 'need', 'fossil', 'fuelsin', '2021', '805', 'morocco', 'electr', 'product', 'came', 'burn', 'coal', 'gas', 'oil', 'contrast', '124', 'came', 'wind', 'power', '44', 'came', 'solarimag', 'caption', 'moundir', 'zniber', 'compani', 'gaia', 'energi', 'develop', 'wind', 'solar', 'green', 'hydrogen', 'power', 'project', '12', 'countri', 'across', 'africahowev', 'morocco', 'alreadi', 'make', 'tangibl', 'progress', 'boost', 'renew', 'energi', 'generat', 'thank', 'project', 'huge', 'noorouarzaz', 'solar', 'complex', 'first', 'phase', 'open', 'back', '2016', 'world', 'largest', 'concentr', 'solar', 'power', 'plantsuch', 'facil', 'use', 'mirror', 'reflect', 'concentr', 'sunlight', 'onto', 'central', 'tower', 'receiv', 'contain', 'fluid', 'heat', 'light', 'creat', 'steam', 'spin', 'turbin', 'generat', 'electricityat', 'noorouarzaz', 'mirror', 'spread', '3000', 'hectar', '116', 'sq', 'mile', 'facil', 'develop', 'saudi', 'arabian', 'firm', 'acwa', 'power', 'fund', 'also', 'come', 'world', 'bank', 'european', 'invest', 'bankmr', 'zniber', 'say', 'privat', 'moroccan', 'firm', 'like', 'plan', 'export', 'solar', 'windgener', 'electr', 'europ', 'green', 'hydrogen', 'hydrogen', 'creat', 'renew', 'energyh', 'add', 'gaia', 'energi', 'develop', 'wind', 'solar', 'scheme', 'could', 'meet', '4', 'germani', 'itali', 'electr', 'need', 'term', 'green', 'hydrogen', 'six', 'project', 'compani', 'develop', 'could', 'answer', '25', 'need', 'eumeanwhil', 'british', 'energi', 'startup', 'xlink', 'plan', 'build', 'undersea', 'electr', 'cabl', 'morocco', 'uk', 'hope', 'moroccan', 'solar', 'wind', 'power', 'provid', '8', 'uk', 'electr', 'requir', '2030imag', 'sourc', 'getti', 'imagesimag', 'caption', 'morocco', 'also', 'invest', 'wind', 'power', 'wind', 'farm', 'near', 'tangiersincreas', 'size', 'morocco', 'solar', 'wind', 'power', 'generat', 'could', 'help', 'bolster', 'econom', 'growth', 'countri', 'accord', 'world', 'bank', 'provid', 'million', 'dollar', 'fund', 'sectorsth', 'benefit', 'includ', 'decoupl', 'heavi', 'volatil', 'price', 'fossil', 'fuel', 'accord', 'world', 'bank', 'lead', 'economist', 'region', 'moez', 'cherif', 'countri', 'unemploy', 'rate', '112', 'mr', 'cherif', 'add', 'could', 'creat', 'mani', '28000', 'much', 'need', 'new', 'job', 'year', 'also', 'say', 'would', 'allow', 'morocco', 'posit', 'industri', 'hub', 'invest', 'export', 'green', 'industri', 'product', 'car', 'manufactur', 'use', 'renew', 'energyyet', 'world', 'bank', 'estim', 'cost', '52bn', '416bn', 'morocco', 'hit', '2030', 'renew', 'target', 'money', 'come', 'privat', 'sector', 'moroccan', 'govern', 'agre', 'thatth', 'administr', 'acut', 'awar', 'potenti', 'benefit', 'tri', 'acceler', 'renew', 'vision', 'first', 'laid', 'king', 'moham', 'vi', '2009morocco', 'minist', 'energi', 'transit', 'sustain', 'develop', 'leila', 'benali', 'say', 'slow', 'growth', 'renew', 'countri', 'recent', 'year', 'caus', 'global', 'factorsimag', 'caption', 'energi', 'transit', 'minist', 'leila', 'benali', 'tri', 'speed', 'countri', 'shift', 'renew', 'powerth', 'world', 'come', 'histor', 'pandem', 'total', 'disloc', 'suppli', 'chain', 'valu', 'chain', 'also', 'affect', 'renew', 'energi', 'includ', 'way', 'trade', 'solar', 'panel', 'wind', 'turbineshowev', 'acknowledg', 'also', 'intern', 'hurdl', 'overcom', 'includ', 'speed', 'streamlin', 'bureaucraci', 'includ', 'make', 'sure', 'compani', 'get', 'thing', 'access', 'land', 'permit', 'relat', 'fast', 'ensur', 'investor', 'get', 'access', 'opportun', 'wantmr', 'benali', 'add', 'govern', 'energi', 'strategi', 'base', 'three', 'pillar', 'ramp', 'renew', 'increas', 'effici', 'integr', 'intern', 'energi', 'market', 'ask', 'make', 'sens', 'export', 'green', 'electr', 'morocco', 'need', 'met', 'renew', 'mrs', 'benali', 'say', 'prioriti', 'moroccan', 'access', 'lowestcost', 'green', 'energysh', 'add', 'also', 'need', 'take', 'advantag', 'histor', 'opportun', 'integr', 'europ', 'energi', 'market', 'opportun', 'could', 'incent', 'much', 'need', 'privat', 'invest', 'world', 'bank', 'moez', 'cherif', 'believ', 'morocco', 'increas', 'export', 'renew', 'power', 'add', 'domest', 'consumpt', 'ideal', 'saysglob', 'trademor', 'bbcs', 'seri', 'take', 'intern', 'perspect', 'tradeat', 'last', 'novemb', 'cop27', 'climat', 'chang', 'confer', 'sharm', 'elsheikh', 'morocco', 'sign', 'memorandum', 'understand', 'franc', 'germani', 'portug', 'spain', 'make', 'easier', 'sell', 'power', 'across', 'bordershowev', 'climat', 'chang', 'activist', 'hajar', 'khalmichi', 'mediterranean', 'youth', 'climat', 'network', 'say', 'want', 'see', 'morocco', 'fulfil', 'domest', 'energi', 'need', 'renew', 'think', 'export', 'electricitysh', 'also', 'think', 'ambit', '52', 'electr', 'come', 'renew', 'doesnt', 'go', 'far', 'enough', 'hasnt', 'enough', 'discuss', 'rest', 'come', 'morocco', 'tri', 'lower', 'depend', 'gas', 'oil', 'coal', 'power', 'stationsm', 'khalmichi', 'add', 'also', 'concern', 'countri', 'explor', 'natur', 'gas', 'coastlineth', 'moroccan', 'govern', 'counter', 'similar', 'challeng', 'countri', 'go', 'big', 'renew', 'need', 'gas', 'deal', 'fact', 'wind', 'doesnt', 'alway', 'blow', 'sun', 'doesnt', 'alway', 'shinemr', 'cherif', 'say', 'may', 'role', 'transit', 'role', 'natur', 'gas', 'morocco', 'move', 'fossil', 'fuel', 'renew', 'gradual', 'one', 'cours', 'decadesmoundir', 'zniber', 'add', 'morocco', 'need', 'mix', 'energi', 'sourc', 'renew', 'part', 'solut', 'electr', 'side']\n"
     ]
    }
   ],
   "source": [
    "# Fem Stemming del text amb 'SnowballStemmer'\n",
    "\n",
    "from nltk.stem import SnowballStemmer\n",
    "stemmer_snowball = SnowballStemmer('english')\n",
    "\n",
    "stemmed_snowball_tokens = [stemmer_snowball.stem(token) for token in filtered_tokens]\n",
    "\n",
    "print(stemmed_snowball_tokens)"
   ]
  },
  {
   "cell_type": "code",
   "execution_count": 64,
   "id": "519e6259",
   "metadata": {},
   "outputs": [
    {
     "name": "stdout",
     "output_type": "stream",
     "text": [
      "[('renew', 19), ('energi', 18), ('morocco', 17), ('wind', 12), ('electr', 11), ('solar', 11), ('need', 10), ('power', 10), ('say', 8), ('world', 8), ('countri', 8), ('also', 8), ('export', 7), ('gas', 7), ('add', 7), ('could', 6), ('moroccan', 6), ('green', 6), ('europ', 5), ('zniber', 5)]\n"
     ]
    }
   ],
   "source": [
    "# I tornem a calcular la freqüencia de les paraules\n",
    "\n",
    "freq_dist_stemmed_snowball_tokens = FreqDist(stemmed_snowball_tokens)\n",
    "\n",
    "print(freq_dist_stemmed_snowball_tokens.most_common(20))      # primeres (20) paraules amb més frequència"
   ]
  },
  {
   "cell_type": "markdown",
   "id": "7215dddb",
   "metadata": {},
   "source": [
    "--------------------------------------------------------------------------------------------------------------------------------"
   ]
  },
  {
   "cell_type": "markdown",
   "id": "e133b60e",
   "metadata": {},
   "source": [
    "### Exercici 3: \n",
    "\n",
    "Realitza sentiment analysis al teu conjunt de dades."
   ]
  },
  {
   "cell_type": "code",
   "execution_count": 65,
   "id": "2a193e65",
   "metadata": {},
   "outputs": [
    {
     "name": "stdout",
     "output_type": "stream",
     "text": [
      "morocco big ambit export electr produc solar wind farm europ prioritis renew energi home marketth resourc could one big big answer european demand say moroccan energi entrepreneur moundir znibermr zniber passion man sens opportun crisisi think morocco repres best opportun get european contin away depend today russian ga saysmr zniber spent past 15 year build compani gaia energi one leader renew energi revolut home countrymorocco truli one best solar wind resourc world combin say dont oil dont natur ga potenti amazingth war ukrain catalys europ politician increas effort tackl climat chang new sourc clean energi morocco hope part solutionit europ doorstep ambiti plan gener 52 electr renew sourc 2030 hope lot electr export via undersea cabl europebut present countri still build mani solar wind farm current north african nation 39 million peopl depend import 90 energi need fossil fuelsin 2021 805 morocco electr product came burn coal ga oil contrast 124 came wind power 44 came solarimag caption moundir zniber compani gaia energi develop wind solar green hydrogen power project 12 countri across africahowev morocco alreadi make tangibl progress boost renew energi gener thank project huge noorouarzaz solar complex first phase open back 2016 world largest concentr solar power plantsuch facil use mirror reflect concentr sunlight onto central tower receiv contain fluid heat light creat steam spin turbin gener electricityat noorouarzaz mirror spread 3000 hectar 116 sq mile facil develop saudi arabian firm acwa power fund also come world bank european invest bankmr zniber say privat moroccan firm like plan export solar windgener electr europ green hydrogen hydrogen creat renew energyh add gaia energi develop wind solar scheme could meet 4 germani itali electr need term green hydrogen six project compani develop could answer 25 need eumeanwhil british energi startup xlink plan build undersea electr cabl morocco uk hope moroccan solar wind power provid 8 uk electr requir 2030imag sourc getti imagesimag caption morocco also invest wind power wind farm near tangiersincreas size morocco solar wind power gener could help bolster econom growth countri accord world bank provid million dollar fund sectorsth benefit includ decoupl heavi volatil price fossil fuel accord world bank lead economist region moez cherif countri unemploy rate 112 mr cherif add could creat mani 28000 much need new job year also say would allow morocco posit industri hub invest export green industri product car manufactur use renew energyyet world bank estim cost 52bn 416bn morocco hit 2030 renew target money come privat sector moroccan govern agre thatth administr acut awar potenti benefit tri acceler renew vision first laid king moham vi 2009morocco minist energi transit sustain develop leila benali say slow growth renew countri recent year caus global factorsimag caption energi transit minist leila benali tri speed countri shift renew powerth world come histor pandem total disloc suppli chain valu chain also affect renew energi includ way trade solar panel wind turbineshowev acknowledg also intern hurdl overcom includ speed streamlin bureaucraci includ make sure compani get thing access land permit rel fast ensur investor get access opportun wantmr benali add govern energi strategi base three pillar ramp renew increas effici integr intern energi market ask make sens export green electr morocco need met renew mr benali say prioriti moroccan access lowestcost green energysh add also need take advantag histor opportun integr europ energi market opportun could incent much need privat invest world bank moez cherif believ morocco increas export renew power add domest consumpt ideal saysglob trademor bbc seri take intern perspect tradeat last novemb cop27 climat chang confer sharm elsheikh morocco sign memorandum understand franc germani portug spain make easier sell power across bordershowev climat chang activist hajar khalmichi mediterranean youth climat network say want see morocco fulfil domest energi need renew think export electricitysh also think ambit 52 electr come renew doesnt go far enough hasnt enough discuss rest come morocco tri lower depend ga oil coal power stationsm khalmichi add also concern countri explor natur ga coastlineth moroccan govern counter similar challeng countri go big renew need ga deal fact wind doesnt alway blow sun doesnt alway shinemr cherif say may role transit role natur ga morocco move fossil fuel renew gradual one cours decadesmoundir zniber add morocco need mix energi sourc renew part solut electr side\n"
     ]
    }
   ],
   "source": [
    "# Primer passem el llistat 'stemmed_tokens' a text\n",
    "\n",
    "stemmed_text = ' '.join(stemmed_tokens)\n",
    "\n",
    "print(stemmed_text)"
   ]
  },
  {
   "cell_type": "markdown",
   "id": "f5896dc1",
   "metadata": {},
   "source": [
    "- __Sentiment Analysis VADER__"
   ]
  },
  {
   "cell_type": "code",
   "execution_count": 66,
   "id": "59a3c505",
   "metadata": {},
   "outputs": [
    {
     "name": "stdout",
     "output_type": "stream",
     "text": [
      "Anàlisi de sentiment:  {'neg': 0.01, 'neu': 0.905, 'pos': 0.085, 'compound': 0.9941}\n",
      "Negatiu: 1.0 %\n",
      "Neutral: 90.5 %\n",
      "Positiu: 8.5 %\n"
     ]
    }
   ],
   "source": [
    "# Realitzem 'sentiment analysis' amb VADER\n",
    "\n",
    "import nltk\n",
    "\n",
    "from nltk.sentiment.vader import SentimentIntensityAnalyzer\n",
    "\n",
    "analyzer = SentimentIntensityAnalyzer()\n",
    "\n",
    "# Calculem 'sntiment analysis'\n",
    "\n",
    "sentiment = analyzer.polarity_scores(stemmed_text)\n",
    "\n",
    "print(\"Anàlisi de sentiment: \", sentiment)\n",
    "print(\"Negatiu:\", sentiment['neg']*100, \"%\")\n",
    "print(\"Neutral:\", sentiment['neu']*100, \"%\")\n",
    "print(\"Positiu:\", sentiment['pos']*100, \"%\")\n"
   ]
  },
  {
   "cell_type": "markdown",
   "id": "4544d71f",
   "metadata": {},
   "source": [
    "#### Comentaris:\n",
    "\n",
    "- El 'sentiment analysis' proporciona una puntuació de sentiment composta (compound) i tres puntuacions de sentiment (negatiu, neutral, positiu)\n",
    "- La puntuació del 'compound' oscil·la entre -1 i 1.\n",
    "- Valors negatius indiquen sentiments negatius i valors positius indiquen sentiments positus. (Valors propers a 0 indiquen poca polaritat de sentiments)\n",
    "- En aquest cas el valor de 'cmpound'  = 0,9941, indicant així que el text és positiu."
   ]
  },
  {
   "cell_type": "code",
   "execution_count": 67,
   "id": "b7a8eec5",
   "metadata": {},
   "outputs": [
    {
     "data": {
      "image/png": "[encoded data removed]",
      "text/plain": [
       "<Figure size 640x480 with 1 Axes>"
      ]
     },
     "metadata": {},
     "output_type": "display_data"
    },
    {
     "name": "stdout",
     "output_type": "stream",
     "text": [
      "SentimentIntensityAnalyzer valora el text com: POSITIU\n"
     ]
    }
   ],
   "source": [
    "# Realitzem grafica:\n",
    "\n",
    "import matplotlib.pyplot as plt\n",
    "\n",
    "Sentiments = list(sentiment.keys())\n",
    "Valors = list(sentiment.values())\n",
    "\n",
    "plt.bar(Sentiments, Valors)\n",
    "\n",
    "plt.title('Can Morocco solve Europe’s energy crisis?', fontsize = 15)\n",
    "plt.xlabel('Sentiment') \n",
    "plt.ylabel('%') \n",
    "\n",
    "plt.show()\n",
    "\n",
    "\n",
    "if sentiment['compound'] < 0.01:\n",
    "    print(\"SentimentIntensityAnalyzer valora el text com: NEGATIU\")\n",
    "        \n",
    "elif sentiment['compound'] > 0.01:\n",
    "    print(\"SentimentIntensityAnalyzer valora el text com: POSITIU\")\n",
    "    \n",
    "else:\n",
    "    print(\"SentimentIntensityAnalyzer valora el text com: NEUTRAL\")"
   ]
  },
  {
   "cell_type": "markdown",
   "id": "83a83788",
   "metadata": {},
   "source": [
    "- __Sentiment Analysis TEXTBLOB__"
   ]
  },
  {
   "cell_type": "code",
   "execution_count": 68,
   "id": "b7a5b11f",
   "metadata": {},
   "outputs": [
    {
     "name": "stdout",
     "output_type": "stream",
     "text": [
      "Requirement already satisfied: textblob in c:\\users\\rsimonne\\anaconda3\\lib\\site-packages (0.17.1)\n",
      "Requirement already satisfied: nltk>=3.1 in c:\\users\\rsimonne\\anaconda3\\lib\\site-packages (from textblob) (3.7)\n",
      "Requirement already satisfied: regex>=2021.8.3 in c:\\users\\rsimonne\\anaconda3\\lib\\site-packages (from nltk>=3.1->textblob) (2022.7.9)\n",
      "Requirement already satisfied: tqdm in c:\\users\\rsimonne\\anaconda3\\lib\\site-packages (from nltk>=3.1->textblob) (4.64.1)\n",
      "Requirement already satisfied: click in c:\\users\\rsimonne\\anaconda3\\lib\\site-packages (from nltk>=3.1->textblob) (8.0.4)\n",
      "Requirement already satisfied: joblib in c:\\users\\rsimonne\\anaconda3\\lib\\site-packages (from nltk>=3.1->textblob) (1.2.0)\n",
      "Requirement already satisfied: colorama in c:\\users\\rsimonne\\anaconda3\\lib\\site-packages (from click->nltk>=3.1->textblob) (0.4.5)\n"
     ]
    }
   ],
   "source": [
    "!pip3 install textblob"
   ]
  },
  {
   "cell_type": "code",
   "execution_count": 69,
   "id": "5e308402",
   "metadata": {},
   "outputs": [
    {
     "name": "stdout",
     "output_type": "stream",
     "text": [
      "Sentiment(polarity=0.07457748378309126, subjectivity=0.38620719882402116)\n"
     ]
    }
   ],
   "source": [
    "# Analisi de 'polarity' i 'subjectivity' amb TextBlob\n",
    "\n",
    "from textblob import TextBlob\n",
    "\n",
    "analisis_textblob = TextBlob(text).sentiment\n",
    "\n",
    "print(analisis_textblob)"
   ]
  },
  {
   "cell_type": "markdown",
   "id": "eb11760f",
   "metadata": {},
   "source": [
    "#### Comentaris:\n",
    "\n",
    "- 'Polarity' és una mesura de l'actitud de l'autor del text. Oscil·la entre -1 i 1: Valors negatius indiquen sentiments negatius i valors positius indiquen sentiments positus.\n",
    "- En aquest cas tenim una 'Polarity' = 0,074577 que pot indicar que el text es lleugerament positiu.\n",
    "\n",
    "- 'Subjectivity' és una mesura de en quant l'autor està expressant les seves opinions i sentiments personals, en lloc de fets objectius. Oscil·la entre 0 i 1: 0 indica que l'autor està incloent fets objectius i 1 indica que l'autor està expressant completament les seves opinions i sentiments personals.\n",
    "- En aquest cas el valor de 'subjectivity' = 0,3918, indicant així que podria ser que l'autor estigués expressant certa subjectivitat i opinió."
   ]
  },
  {
   "cell_type": "markdown",
   "id": "2b1d872f",
   "metadata": {},
   "source": [
    "--------------------------------------------------------------------------------------------------------------------------------"
   ]
  },
  {
   "cell_type": "markdown",
   "id": "0ccb35f1",
   "metadata": {},
   "source": [
    "#### Comentaris finals:\n",
    "\n",
    "- El text parla del potencial del Marroc en quant a la generació d'energia renovable, explicant projectes i objectius futurs així com detallant possibles col·laboracions futures amb paisos Europeus per la venta de l'energia renovable.\n",
    "     - El text te un caracter positiu, coincidint amb els resultats dels analisis, donat que detalla possibles solucions a la crisi energètica europea.\n",
    "- El text inclou referencies / sentencies de diferents membres marroquins del sector públic i privat, en les que s'inlcouen les seves opinions.\n",
    "     - Aquest fet podria explicar el valor 'subjectivity' = 0,3918 que mes enllà de ser opinió de l'autor de l'article, detecta la opinió, en aquest cas dels diferents interlocutors del sector.\n",
    "   \n",
    "\n"
   ]
  },
  {
   "cell_type": "markdown",
   "id": "0b4696da",
   "metadata": {},
   "source": [
    "--------------------------------------------------------------------------------------------------------------------------------"
   ]
  },
  {
   "cell_type": "markdown",
   "id": "f0f54e3a",
   "metadata": {},
   "source": [
    "--------------------------------------------------------------------------------------------------------------------------------"
   ]
  },
  {
   "cell_type": "code",
   "execution_count": 71,
   "id": "f28dbc96",
   "metadata": {},
   "outputs": [
    {
     "name": "stdout",
     "output_type": "stream",
     "text": [
      "Note: you may need to restart the kernel to use updated packages.\n"
     ]
    }
   ],
   "source": [
    "# Per obtenir .txt amb llibreries i versions \n",
    "\n",
    "pip freeze > requirements.txt\n"
   ]
  },
  {
   "cell_type": "code",
   "execution_count": null,
   "id": "8cfad47e",
   "metadata": {},
   "outputs": [],
   "source": []
  }
 ],
 "metadata": {
  "kernelspec": {
   "display_name": "Python 3 (ipykernel)",
   "language": "python",
   "name": "python3"
  },
  "language_info": {
   "codemirror_mode": {
    "name": "ipython",
    "version": 3
   },
   "file_extension": ".py",
   "mimetype": "text/x-python",
   "name": "python",
   "nbconvert_exporter": "python",
   "pygments_lexer": "ipython3",
   "version": "3.9.13"
  }
 },
 "nbformat": 4,
 "nbformat_minor": 5
}
